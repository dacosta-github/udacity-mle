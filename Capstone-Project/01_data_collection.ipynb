{
 "cells": [
  {
   "cell_type": "markdown",
   "metadata": {},
   "source": [
    "# Machine Learning Engineer Nanodegree\n",
    "\n",
    "## Project: Complaints Text Classification \n",
    "\n",
    "### 00. Prepare environment\n",
    "\n",
    "The first step is the is to prepare the Python + Jupyter Notebooks environment to run the various models. To develop this project I consider several libraries that help us to explore, process, train and validate our data and models.\n",
    "\n",
    "### 01. Data Collection \n",
    "\n",
    "After understanding the problem at hand, that I proposed to respond by considering the methodology. Then I proceed with the first step of collecting and loading the data into our platform.\n",
    "\n",
    "The purpose of this notebook, is related to the collection and storage of data so that they can be worked on in a next stage of exploration (It is not our concern in this notebook to explore the data, that I'll leave for notebook 03 - Data Exploration)\n",
    "\n",
    "For this project I'll use a dataset called Consumer Complaint Database (Consumer Finance Complaints (Bureau of Consumer Financial Protection)) which can be downloaded from Kaggle [6] or Data.gov [7].\n",
    "“These are real world complaints received about financial products and services. Each complaint has been labeled with a specific product;\n",
    "therefore, this is a supervised text classification problem. With the aim to classify future complaints based on its content, I used different ML algorithms can make more accurate predictions (i.e., classify the complaint in one of the product categories). The dataset contains different information of complaints that customers have made about a multiple products and services in the financial sector, such us Credit Reports, Student Loans, Money Transfer, etc. The date of each complaint ranges from November 2011 to May 2019”\n",
    "\n",
    "More about dataset: #https://cfpb.github.io/api/ccdb/fields.html\n"
   ]
  },
  {
   "cell_type": "markdown",
   "metadata": {},
   "source": [
    "The cell below will download the necessary data and extract the files to the dataset/ folder. The original data is in a zip file and the data set is in csv format. Then I define a process to download, unzip and save the data into a specific folder.\n",
    "\n",
    "This set of complaints data is made from a single file, and I can read it using pandas."
   ]
  },
  {
   "cell_type": "markdown",
   "metadata": {},
   "source": [
    "**Step 1 - Importing packages**"
   ]
  },
  {
   "cell_type": "code",
   "execution_count": 1,
   "metadata": {},
   "outputs": [],
   "source": [
    "# General:\n",
    "import pandas as pd\n",
    "import numpy as np\n",
    "import os\n",
    "import re\n",
    "import pickle\n",
    "\n",
    "# My libraries:\n",
    "import utilities.helpers as helpers\n",
    "\n",
    "# Warnings:\n",
    "import warnings; warnings.simplefilter('ignore')"
   ]
  },
  {
   "cell_type": "markdown",
   "metadata": {},
   "source": [
    "**Step 2 - Define URL and Folder Destination**"
   ]
  },
  {
   "cell_type": "code",
   "execution_count": 2,
   "metadata": {},
   "outputs": [],
   "source": [
    "dest_folder = 'dataset'\n",
    "url = \"https://files.consumerfinance.gov/ccdb/complaints.csv.zip\""
   ]
  },
  {
   "cell_type": "markdown",
   "metadata": {},
   "source": [
    "**Step 3 - Downloading and store the file**"
   ]
  },
  {
   "cell_type": "code",
   "execution_count": 3,
   "metadata": {},
   "outputs": [
    {
     "name": "stdout",
     "output_type": "stream",
     "text": [
      "The complaints.csv.zip file exist in dataset folder (dataset/complaints.csv.zip).\n"
     ]
    }
   ],
   "source": [
    "data_file = helpers.download(url, dest_folder, unzip=1)"
   ]
  },
  {
   "cell_type": "markdown",
   "metadata": {},
   "source": [
    "**Step 4 - File and data validation**"
   ]
  },
  {
   "cell_type": "code",
   "execution_count": 4,
   "metadata": {},
   "outputs": [
    {
     "name": "stdout",
     "output_type": "stream",
     "text": [
      "Complaints data read successfully!\n"
     ]
    }
   ],
   "source": [
    "# Load dataset with pandas to a variable\n",
    "df_complaints = pd.read_csv(data_file);\n",
    "print(\"Complaints data read successfully!\")"
   ]
  },
  {
   "cell_type": "code",
   "execution_count": 5,
   "metadata": {},
   "outputs": [
    {
     "data": {
      "text/plain": [
       "(1827350, 18)"
      ]
     },
     "execution_count": 5,
     "metadata": {},
     "output_type": "execute_result"
    }
   ],
   "source": [
    "df_complaints.shape"
   ]
  },
  {
   "cell_type": "markdown",
   "metadata": {},
   "source": [
    "In a first analysis the data set has a structure of 18 columns and about 1.8 million records."
   ]
  },
  {
   "cell_type": "code",
   "execution_count": 6,
   "metadata": {},
   "outputs": [
    {
     "data": {
      "text/html": [
       "<div>\n",
       "<style scoped>\n",
       "    .dataframe tbody tr th:only-of-type {\n",
       "        vertical-align: middle;\n",
       "    }\n",
       "\n",
       "    .dataframe tbody tr th {\n",
       "        vertical-align: top;\n",
       "    }\n",
       "\n",
       "    .dataframe thead th {\n",
       "        text-align: right;\n",
       "    }\n",
       "</style>\n",
       "<table border=\"1\" class=\"dataframe\">\n",
       "  <thead>\n",
       "    <tr style=\"text-align: right;\">\n",
       "      <th></th>\n",
       "      <th>0</th>\n",
       "    </tr>\n",
       "  </thead>\n",
       "  <tbody>\n",
       "    <tr>\n",
       "      <th>Date received</th>\n",
       "      <td>2019-09-24</td>\n",
       "    </tr>\n",
       "    <tr>\n",
       "      <th>Product</th>\n",
       "      <td>Debt collection</td>\n",
       "    </tr>\n",
       "    <tr>\n",
       "      <th>Sub-product</th>\n",
       "      <td>I do not know</td>\n",
       "    </tr>\n",
       "    <tr>\n",
       "      <th>Issue</th>\n",
       "      <td>Attempts to collect debt not owed</td>\n",
       "    </tr>\n",
       "    <tr>\n",
       "      <th>Sub-issue</th>\n",
       "      <td>Debt is not yours</td>\n",
       "    </tr>\n",
       "    <tr>\n",
       "      <th>Consumer complaint narrative</th>\n",
       "      <td>transworld systems inc. \\nis trying to collect...</td>\n",
       "    </tr>\n",
       "    <tr>\n",
       "      <th>Company public response</th>\n",
       "      <td>NaN</td>\n",
       "    </tr>\n",
       "    <tr>\n",
       "      <th>Company</th>\n",
       "      <td>TRANSWORLD SYSTEMS INC</td>\n",
       "    </tr>\n",
       "    <tr>\n",
       "      <th>State</th>\n",
       "      <td>FL</td>\n",
       "    </tr>\n",
       "    <tr>\n",
       "      <th>ZIP code</th>\n",
       "      <td>335XX</td>\n",
       "    </tr>\n",
       "    <tr>\n",
       "      <th>Tags</th>\n",
       "      <td>NaN</td>\n",
       "    </tr>\n",
       "    <tr>\n",
       "      <th>Consumer consent provided?</th>\n",
       "      <td>Consent provided</td>\n",
       "    </tr>\n",
       "    <tr>\n",
       "      <th>Submitted via</th>\n",
       "      <td>Web</td>\n",
       "    </tr>\n",
       "    <tr>\n",
       "      <th>Date sent to company</th>\n",
       "      <td>2019-09-24</td>\n",
       "    </tr>\n",
       "    <tr>\n",
       "      <th>Company response to consumer</th>\n",
       "      <td>Closed with explanation</td>\n",
       "    </tr>\n",
       "    <tr>\n",
       "      <th>Timely response?</th>\n",
       "      <td>Yes</td>\n",
       "    </tr>\n",
       "    <tr>\n",
       "      <th>Consumer disputed?</th>\n",
       "      <td>NaN</td>\n",
       "    </tr>\n",
       "    <tr>\n",
       "      <th>Complaint ID</th>\n",
       "      <td>3384392</td>\n",
       "    </tr>\n",
       "  </tbody>\n",
       "</table>\n",
       "</div>"
      ],
      "text/plain": [
       "                                                                              0\n",
       "Date received                                                        2019-09-24\n",
       "Product                                                         Debt collection\n",
       "Sub-product                                                       I do not know\n",
       "Issue                                         Attempts to collect debt not owed\n",
       "Sub-issue                                                     Debt is not yours\n",
       "Consumer complaint narrative  transworld systems inc. \\nis trying to collect...\n",
       "Company public response                                                     NaN\n",
       "Company                                                  TRANSWORLD SYSTEMS INC\n",
       "State                                                                        FL\n",
       "ZIP code                                                                  335XX\n",
       "Tags                                                                        NaN\n",
       "Consumer consent provided?                                     Consent provided\n",
       "Submitted via                                                               Web\n",
       "Date sent to company                                                 2019-09-24\n",
       "Company response to consumer                            Closed with explanation\n",
       "Timely response?                                                            Yes\n",
       "Consumer disputed?                                                          NaN\n",
       "Complaint ID                                                            3384392"
      ]
     },
     "execution_count": 6,
     "metadata": {},
     "output_type": "execute_result"
    }
   ],
   "source": [
    "# print out the first transpose row of data info\n",
    "df_complaints.head(1).T"
   ]
  },
  {
   "cell_type": "markdown",
   "metadata": {},
   "source": [
    "**Step 5 - Convert csv file to pickle file**"
   ]
  },
  {
   "cell_type": "code",
   "execution_count": 7,
   "metadata": {},
   "outputs": [],
   "source": [
    "# Pickling our subsetted dataframe\n",
    "dest_folder = '../Capstone-Project/dataset/';\n",
    "file_name = 'df_complaints'\n",
    "\n",
    "helpers.save_pickle(dest_folder,df_complaints, file_name);"
   ]
  },
  {
   "cell_type": "markdown",
   "metadata": {},
   "source": [
    "## Up Next\n",
    "\n",
    "Since I have downloaded the files, stored them in our folder structure and validated in a high level that I have data, I'll now explore this dataset. For that I'll use the second notebook **02_data_exploration**."
   ]
  },
  {
   "cell_type": "markdown",
   "metadata": {},
   "source": [
    "-------------------------------------- _END 01 Data Collection_ --------------------------------------"
   ]
  },
  {
   "cell_type": "code",
   "execution_count": null,
   "metadata": {},
   "outputs": [],
   "source": []
  }
 ],
 "metadata": {
  "kernelspec": {
   "display_name": "Python 3",
   "language": "python",
   "name": "python3"
  },
  "language_info": {
   "codemirror_mode": {
    "name": "ipython",
    "version": 3
   },
   "file_extension": ".py",
   "mimetype": "text/x-python",
   "name": "python",
   "nbconvert_exporter": "python",
   "pygments_lexer": "ipython3",
   "version": "3.7.4"
  }
 },
 "nbformat": 4,
 "nbformat_minor": 2
}