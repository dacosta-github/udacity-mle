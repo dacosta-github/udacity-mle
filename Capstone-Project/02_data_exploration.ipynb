{
 "cells": [
  {
   "cell_type": "markdown",
   "metadata": {},
   "source": [
    "# Machine Learning Engineer Nanodegree\n",
    "\n",
    "## Project: Complaints Text Classification \n",
    "\n",
    "### 02. Data Exploration and Visualisation\n",
    "\n",
    "The first step in working with the data set is to load the data and identify what information is included in the data set. This is an important step to eventually work with this data, and to know what kind of characteristics I have to work with when transforming and grouping the data!\n",
    "\n",
    "In this way, I prepare this notebook to do all the data exploration and pattern observation on the features given to it and the data distribution, as well as the definition of our final data set, to be worked on in the next step of pre-processing and data feature engineering.\n",
    "\n",
    "#### Exploratory Data Analysis (EDA)\n",
    "With resources from different EDA and data Pre-Processing methodologies and libraries, I'll explore and visualise this data from the existing data set and analyse the possible metrics that will be used to understand the solution to the problem I propose to answer. Thus, I'll try to identify the relationship between each of the characteristics and features of the complaint.\n",
    "\n",
    "I'll analyse:\n",
    "* A general statistical summary of the data set, using EDA visualization tools\n",
    "* Distribution of `complaints`, `product`, `sub_product`, `issue` and `sub_issue`\n",
    "* Relationship of complaint text length and assigned product\n",
    "* Relationship of the complaint narrative to the product allocated\n",
    "* Relationship of the words of the complaint to the product\n",
    "* Try to identify the relationship between the features\n",
    "* I'll try to reduce our data subset\n"
   ]
  },
  {
   "cell_type": "markdown",
   "metadata": {},
   "source": [
    "**Step 1 - Importing packages**"
   ]
  },
  {
   "cell_type": "code",
   "execution_count": 1,
   "metadata": {},
   "outputs": [],
   "source": [
    "import pandas as pd\n",
    "import numpy as np\n",
    "from scipy.stats import randint\n",
    "import os\n",
    "import re\n",
    "import pickle\n",
    "import IPython\n",
    "from IPython.display import IFrame\n",
    "\n",
    "# Pre-Processing\n",
    "from stop_words import get_stop_words\n",
    "from sklearn.feature_extraction.text import TfidfVectorizer\n",
    "\n",
    "# EDA\n",
    "import sweetviz as sv\n",
    "from pandas_profiling import ProfileReport as ppr\n",
    "\n",
    "# Ploting\n",
    "import matplotlib.pyplot as plt\n",
    "import seaborn as sns\n",
    "\n",
    "# My libraries:\n",
    "import utilities.helpers as helpers\n",
    "\n",
    "# Warnings;\n",
    "import warnings; warnings.simplefilter('ignore')"
   ]
  },
  {
   "cell_type": "markdown",
   "metadata": {},
   "source": [
    "**Step 2 - Load worked dataset and copy to a dataframe with pandas**"
   ]
  },
  {
   "cell_type": "code",
   "execution_count": 2,
   "metadata": {},
   "outputs": [
    {
     "name": "stdout",
     "output_type": "stream",
     "text": [
      "df_complaints pickle file loaded successfully!\n"
     ]
    }
   ],
   "source": [
    "# Load pickle file to a data frame\n",
    "dest_folder = '../Capstone-Project/dataset/';\n",
    "file_name = 'df_complaints'\n",
    "\n",
    "df_complaints = helpers.load_pickle(dest_folder,file_name);"
   ]
  },
  {
   "cell_type": "code",
   "execution_count": 3,
   "metadata": {},
   "outputs": [],
   "source": [
    "df_complaints = df_complaints.copy();"
   ]
  },
  {
   "cell_type": "code",
   "execution_count": 4,
   "metadata": {},
   "outputs": [
    {
     "data": {
      "text/html": [
       "<div>\n",
       "<style scoped>\n",
       "    .dataframe tbody tr th:only-of-type {\n",
       "        vertical-align: middle;\n",
       "    }\n",
       "\n",
       "    .dataframe tbody tr th {\n",
       "        vertical-align: top;\n",
       "    }\n",
       "\n",
       "    .dataframe thead th {\n",
       "        text-align: right;\n",
       "    }\n",
       "</style>\n",
       "<table border=\"1\" class=\"dataframe\">\n",
       "  <thead>\n",
       "    <tr style=\"text-align: right;\">\n",
       "      <th></th>\n",
       "      <th>0</th>\n",
       "      <th>1</th>\n",
       "    </tr>\n",
       "  </thead>\n",
       "  <tbody>\n",
       "    <tr>\n",
       "      <th>Date received</th>\n",
       "      <td>2019-09-24</td>\n",
       "      <td>2020-11-04</td>\n",
       "    </tr>\n",
       "    <tr>\n",
       "      <th>Product</th>\n",
       "      <td>Debt collection</td>\n",
       "      <td>Credit reporting, credit repair services, or o...</td>\n",
       "    </tr>\n",
       "    <tr>\n",
       "      <th>Sub-product</th>\n",
       "      <td>I do not know</td>\n",
       "      <td>Credit reporting</td>\n",
       "    </tr>\n",
       "    <tr>\n",
       "      <th>Issue</th>\n",
       "      <td>Attempts to collect debt not owed</td>\n",
       "      <td>Incorrect information on your report</td>\n",
       "    </tr>\n",
       "    <tr>\n",
       "      <th>Sub-issue</th>\n",
       "      <td>Debt is not yours</td>\n",
       "      <td>Information belongs to someone else</td>\n",
       "    </tr>\n",
       "    <tr>\n",
       "      <th>Consumer complaint narrative</th>\n",
       "      <td>transworld systems inc. \\nis trying to collect...</td>\n",
       "      <td>NaN</td>\n",
       "    </tr>\n",
       "    <tr>\n",
       "      <th>Company public response</th>\n",
       "      <td>NaN</td>\n",
       "      <td>Company has responded to the consumer and the ...</td>\n",
       "    </tr>\n",
       "    <tr>\n",
       "      <th>Company</th>\n",
       "      <td>TRANSWORLD SYSTEMS INC</td>\n",
       "      <td>Experian Information Solutions Inc.</td>\n",
       "    </tr>\n",
       "    <tr>\n",
       "      <th>State</th>\n",
       "      <td>FL</td>\n",
       "      <td>TX</td>\n",
       "    </tr>\n",
       "    <tr>\n",
       "      <th>ZIP code</th>\n",
       "      <td>335XX</td>\n",
       "      <td>76904</td>\n",
       "    </tr>\n",
       "    <tr>\n",
       "      <th>Tags</th>\n",
       "      <td>NaN</td>\n",
       "      <td>NaN</td>\n",
       "    </tr>\n",
       "    <tr>\n",
       "      <th>Consumer consent provided?</th>\n",
       "      <td>Consent provided</td>\n",
       "      <td>Consent not provided</td>\n",
       "    </tr>\n",
       "    <tr>\n",
       "      <th>Submitted via</th>\n",
       "      <td>Web</td>\n",
       "      <td>Web</td>\n",
       "    </tr>\n",
       "    <tr>\n",
       "      <th>Date sent to company</th>\n",
       "      <td>2019-09-24</td>\n",
       "      <td>2020-11-04</td>\n",
       "    </tr>\n",
       "    <tr>\n",
       "      <th>Company response to consumer</th>\n",
       "      <td>Closed with explanation</td>\n",
       "      <td>Closed with explanation</td>\n",
       "    </tr>\n",
       "    <tr>\n",
       "      <th>Timely response?</th>\n",
       "      <td>Yes</td>\n",
       "      <td>Yes</td>\n",
       "    </tr>\n",
       "    <tr>\n",
       "      <th>Consumer disputed?</th>\n",
       "      <td>NaN</td>\n",
       "      <td>NaN</td>\n",
       "    </tr>\n",
       "    <tr>\n",
       "      <th>Complaint ID</th>\n",
       "      <td>3384392</td>\n",
       "      <td>3937683</td>\n",
       "    </tr>\n",
       "  </tbody>\n",
       "</table>\n",
       "</div>"
      ],
      "text/plain": [
       "                                                                              0  \\\n",
       "Date received                                                        2019-09-24   \n",
       "Product                                                         Debt collection   \n",
       "Sub-product                                                       I do not know   \n",
       "Issue                                         Attempts to collect debt not owed   \n",
       "Sub-issue                                                     Debt is not yours   \n",
       "Consumer complaint narrative  transworld systems inc. \\nis trying to collect...   \n",
       "Company public response                                                     NaN   \n",
       "Company                                                  TRANSWORLD SYSTEMS INC   \n",
       "State                                                                        FL   \n",
       "ZIP code                                                                  335XX   \n",
       "Tags                                                                        NaN   \n",
       "Consumer consent provided?                                     Consent provided   \n",
       "Submitted via                                                               Web   \n",
       "Date sent to company                                                 2019-09-24   \n",
       "Company response to consumer                            Closed with explanation   \n",
       "Timely response?                                                            Yes   \n",
       "Consumer disputed?                                                          NaN   \n",
       "Complaint ID                                                            3384392   \n",
       "\n",
       "                                                                              1  \n",
       "Date received                                                        2020-11-04  \n",
       "Product                       Credit reporting, credit repair services, or o...  \n",
       "Sub-product                                                    Credit reporting  \n",
       "Issue                                      Incorrect information on your report  \n",
       "Sub-issue                                   Information belongs to someone else  \n",
       "Consumer complaint narrative                                                NaN  \n",
       "Company public response       Company has responded to the consumer and the ...  \n",
       "Company                                     Experian Information Solutions Inc.  \n",
       "State                                                                        TX  \n",
       "ZIP code                                                                  76904  \n",
       "Tags                                                                        NaN  \n",
       "Consumer consent provided?                                 Consent not provided  \n",
       "Submitted via                                                               Web  \n",
       "Date sent to company                                                 2020-11-04  \n",
       "Company response to consumer                            Closed with explanation  \n",
       "Timely response?                                                            Yes  \n",
       "Consumer disputed?                                                          NaN  \n",
       "Complaint ID                                                            3937683  "
      ]
     },
     "execution_count": 4,
     "metadata": {},
     "output_type": "execute_result"
    }
   ],
   "source": [
    "df_complaints.head(2).T"
   ]
  },
  {
   "cell_type": "markdown",
   "metadata": {},
   "source": [
    "**Step 3 - A few general statistics about dataset**\n",
    "\n",
    "I'll analyze here the high-level statistics of the complaint"
   ]
  },
  {
   "cell_type": "code",
   "execution_count": 5,
   "metadata": {},
   "outputs": [
    {
     "data": {
      "text/plain": [
       "(1827350, 18)"
      ]
     },
     "execution_count": 5,
     "metadata": {},
     "output_type": "execute_result"
    }
   ],
   "source": [
    "df_complaints.shape"
   ]
  },
  {
   "cell_type": "markdown",
   "metadata": {},
   "source": [
    "Data set with 18 columns and more than 1.8 Million Records. \n",
    "\n",
    "This is a considerable data set."
   ]
  },
  {
   "cell_type": "markdown",
   "metadata": {},
   "source": [
    "**Sweetviz and Pandas Profiling Overview**\n",
    "\n",
    "I'll generate the reports that allow us to understand how our data is and is related."
   ]
  },
  {
   "cell_type": "code",
   "execution_count": 6,
   "metadata": {},
   "outputs": [
    {
     "data": {
      "application/vnd.jupyter.widget-view+json": {
       "model_id": "bc5f0705dbe045ae9998de75c58cf090",
       "version_major": 2,
       "version_minor": 0
      },
      "text/plain": [
       "HBox(children=(HTML(value=''), FloatProgress(value=0.0, layout=Layout(flex='2'), max=19.0), HTML(value='')), l…"
      ]
     },
     "metadata": {},
     "output_type": "display_data"
    },
    {
     "name": "stdout",
     "output_type": "stream",
     "text": [
      "Report SWEETVIZ_REPORT.html was generated! NOTEBOOK/COLAB USERS: the web browser MAY not pop up, regardless, the report IS saved in your notebook/colab files.\n"
     ]
    }
   ],
   "source": [
    "# PSweetviz Report\n",
    "SWEETVIZ_REPORT_COMPLAINTS_SOURCE = sv.analyze([df_complaints, \"COMPLAINTS\"], pairwise_analysis=\"off\");\n",
    "SWEETVIZ_REPORT_COMPLAINTS_SOURCE.show_html();"
   ]
  },
  {
   "cell_type": "code",
   "execution_count": 7,
   "metadata": {},
   "outputs": [
    {
     "data": {
      "text/html": [
       "\n",
       "        <iframe\n",
       "            width=\"800\"\n",
       "            height=\"200\"\n",
       "            src=\"../Capstone-Project/SWEETVIZ_REPORT.html\"\n",
       "            frameborder=\"0\"\n",
       "            allowfullscreen\n",
       "        ></iframe>\n",
       "        "
      ],
      "text/plain": [
       "<IPython.lib.display.IFrame at 0x166859fd0>"
      ]
     },
     "execution_count": 7,
     "metadata": {},
     "output_type": "execute_result"
    }
   ],
   "source": [
    "IFrame(src='../Capstone-Project/SWEETVIZ_REPORT.html', width=800, height=200)"
   ]
  },
  {
   "cell_type": "code",
   "execution_count": 8,
   "metadata": {},
   "outputs": [],
   "source": [
    "# Pandas Profile\n",
    "#PANDAS_REPORT_COMPLAINTS = ppr(df_complaints, title=\"Pandas Profiling Reporting - COMPLAINTS\")\n",
    "#PANDAS_REPORT_COMPLAINTS.to_notebook_iframe();"
   ]
  },
  {
   "cell_type": "code",
   "execution_count": 9,
   "metadata": {},
   "outputs": [
    {
     "name": "stdout",
     "output_type": "stream",
     "text": [
      "<class 'pandas.core.frame.DataFrame'>\n",
      "RangeIndex: 1827350 entries, 0 to 1827349\n",
      "Data columns (total 18 columns):\n",
      " #   Column                        Dtype \n",
      "---  ------                        ----- \n",
      " 0   Date received                 object\n",
      " 1   Product                       object\n",
      " 2   Sub-product                   object\n",
      " 3   Issue                         object\n",
      " 4   Sub-issue                     object\n",
      " 5   Consumer complaint narrative  object\n",
      " 6   Company public response       object\n",
      " 7   Company                       object\n",
      " 8   State                         object\n",
      " 9   ZIP code                      object\n",
      " 10  Tags                          object\n",
      " 11  Consumer consent provided?    object\n",
      " 12  Submitted via                 object\n",
      " 13  Date sent to company          object\n",
      " 14  Company response to consumer  object\n",
      " 15  Timely response?              object\n",
      " 16  Consumer disputed?            object\n",
      " 17  Complaint ID                  int64 \n",
      "dtypes: int64(1), object(17)\n",
      "memory usage: 250.9+ MB\n"
     ]
    }
   ],
   "source": [
    "df_complaints.info()"
   ]
  },
  {
   "cell_type": "markdown",
   "metadata": {},
   "source": [
    "I find that there are many records to be found, particularly in the narrative of the complaint. This attribute is very important for our project.\n",
    "\n",
    "Therefore, I'll have to filter all the complaints that do not have a narrative, because they do not interest us."
   ]
  },
  {
   "cell_type": "code",
   "execution_count": 10,
   "metadata": {},
   "outputs": [
    {
     "data": {
      "text/plain": [
       "Date received                         0\n",
       "Product                               0\n",
       "Sub-product                      235165\n",
       "Issue                                 0\n",
       "Sub-issue                        589015\n",
       "Consumer complaint narrative    1206003\n",
       "Company public response         1079117\n",
       "Company                               0\n",
       "State                             34402\n",
       "ZIP code                         179051\n",
       "Tags                            1587205\n",
       "Consumer consent provided?       662558\n",
       "Submitted via                         0\n",
       "Date sent to company                  0\n",
       "Company response to consumer          2\n",
       "Timely response?                      0\n",
       "Consumer disputed?              1058874\n",
       "Complaint ID                          0\n",
       "dtype: int64"
      ]
     },
     "execution_count": 10,
     "metadata": {},
     "output_type": "execute_result"
    }
   ],
   "source": [
    "#identify nulls\n",
    "df_complaints.isna().sum()"
   ]
  },
  {
   "cell_type": "markdown",
   "metadata": {},
   "source": [
    "On this data set only have one numerical variable."
   ]
  },
  {
   "cell_type": "markdown",
   "metadata": {},
   "source": [
    "I'll analyze here the percentage of columns with text. From 1.8 million complaints, there are about 600,000 cases with text (~ 34% of the original dataset is not null). This is still a good number to work with."
   ]
  },
  {
   "cell_type": "code",
   "execution_count": 11,
   "metadata": {},
   "outputs": [
    {
     "name": "stdout",
     "output_type": "stream",
     "text": [
      "Consumer complaint narrative % : 34.0\n",
      "Sub-product % : 87.1\n",
      "Sub-issue % : 100.0\n",
      "Issue % : 100.0\n",
      "Product % : 67.8\n"
     ]
    }
   ],
   "source": [
    "# Percentage of columns with text\n",
    "complaints_with_narrative = df_complaints['Consumer complaint narrative'].notnull().sum()\n",
    "sub_product_with_text = df_complaints['Sub-product'].notnull().sum()\n",
    "issue_with_text = df_complaints['Issue'].notnull().sum()\n",
    "product_with_text  = df_complaints['Product'].notnull().sum()\n",
    "sub_issue_with_text = df_complaints['Sub-issue'].notnull().sum()\n",
    "\n",
    "print('Consumer complaint narrative % : ' + helpers.to_str(round((complaints_with_narrative/len(df_complaints)*100),1)));\n",
    "print('Sub-product % : ' + helpers.to_str(round((sub_product_with_text/len(df_complaints)*100),1)));\n",
    "print('Sub-issue % : ' + helpers.to_str(round((product_with_text/len(df_complaints)*100),1)));\n",
    "print('Issue % : ' + helpers.to_str(round((issue_with_text/len(df_complaints)*100),1)));\n",
    "print('Product % : ' + helpers.to_str(round((sub_issue_with_text/len(df_complaints)*100),1)));"
   ]
  },
  {
   "cell_type": "markdown",
   "metadata": {},
   "source": [
    "Analysing the above metrics, one realizes that the data set is considerably large to work locally. I'll have to filter the data set in some way so that I can explore and train it.\n",
    "\n",
    "After analysis and taking into account the problem I have proposed, I'll select only the columns that interest us and I'll rename them, considering a new monenclature. The data set contains several characteristics that will not be necessary to solve the classification problem I propose to do. So, for a better analysis and understanding of the text classification problem, I'll build a new data set with fewer columns and with a new sorting."
   ]
  },
  {
   "cell_type": "markdown",
   "metadata": {},
   "source": [
    "**Step 4 - Data set considering**"
   ]
  },
  {
   "cell_type": "code",
   "execution_count": 12,
   "metadata": {},
   "outputs": [
    {
     "data": {
      "text/html": [
       "<div>\n",
       "<style scoped>\n",
       "    .dataframe tbody tr th:only-of-type {\n",
       "        vertical-align: middle;\n",
       "    }\n",
       "\n",
       "    .dataframe tbody tr th {\n",
       "        vertical-align: top;\n",
       "    }\n",
       "\n",
       "    .dataframe thead th {\n",
       "        text-align: right;\n",
       "    }\n",
       "</style>\n",
       "<table border=\"1\" class=\"dataframe\">\n",
       "  <thead>\n",
       "    <tr style=\"text-align: right;\">\n",
       "      <th></th>\n",
       "      <th>complaint_id</th>\n",
       "      <th>complaint_text</th>\n",
       "      <th>issue</th>\n",
       "      <th>sub_issue</th>\n",
       "      <th>product</th>\n",
       "      <th>sub_product</th>\n",
       "      <th>company</th>\n",
       "      <th>complaint_text_length</th>\n",
       "    </tr>\n",
       "  </thead>\n",
       "  <tbody>\n",
       "    <tr>\n",
       "      <th>0</th>\n",
       "      <td>3384392</td>\n",
       "      <td>transworld systems inc. \\nis trying to collect...</td>\n",
       "      <td>Attempts to collect debt not owed</td>\n",
       "      <td>Debt is not yours</td>\n",
       "      <td>Debt collection</td>\n",
       "      <td>I do not know</td>\n",
       "      <td>TRANSWORLD SYSTEMS INC</td>\n",
       "      <td>98.0</td>\n",
       "    </tr>\n",
       "    <tr>\n",
       "      <th>1</th>\n",
       "      <td>3937683</td>\n",
       "      <td>NaN</td>\n",
       "      <td>Incorrect information on your report</td>\n",
       "      <td>Information belongs to someone else</td>\n",
       "      <td>Credit reporting, credit repair services, or o...</td>\n",
       "      <td>Credit reporting</td>\n",
       "      <td>Experian Information Solutions Inc.</td>\n",
       "      <td>NaN</td>\n",
       "    </tr>\n",
       "    <tr>\n",
       "      <th>2</th>\n",
       "      <td>3379500</td>\n",
       "      <td>NaN</td>\n",
       "      <td>Incorrect information on your report</td>\n",
       "      <td>Information belongs to someone else</td>\n",
       "      <td>Credit reporting, credit repair services, or o...</td>\n",
       "      <td>Credit reporting</td>\n",
       "      <td>Experian Information Solutions Inc.</td>\n",
       "      <td>NaN</td>\n",
       "    </tr>\n",
       "  </tbody>\n",
       "</table>\n",
       "</div>"
      ],
      "text/plain": [
       "   complaint_id                                     complaint_text  \\\n",
       "0       3384392  transworld systems inc. \\nis trying to collect...   \n",
       "1       3937683                                                NaN   \n",
       "2       3379500                                                NaN   \n",
       "\n",
       "                                  issue                            sub_issue  \\\n",
       "0     Attempts to collect debt not owed                    Debt is not yours   \n",
       "1  Incorrect information on your report  Information belongs to someone else   \n",
       "2  Incorrect information on your report  Information belongs to someone else   \n",
       "\n",
       "                                             product       sub_product  \\\n",
       "0                                    Debt collection     I do not know   \n",
       "1  Credit reporting, credit repair services, or o...  Credit reporting   \n",
       "2  Credit reporting, credit repair services, or o...  Credit reporting   \n",
       "\n",
       "                               company  complaint_text_length  \n",
       "0               TRANSWORLD SYSTEMS INC                   98.0  \n",
       "1  Experian Information Solutions Inc.                    NaN  \n",
       "2  Experian Information Solutions Inc.                    NaN  "
      ]
     },
     "execution_count": 12,
     "metadata": {},
     "output_type": "execute_result"
    }
   ],
   "source": [
    "# rename the columns considered\n",
    "df_complaints = df_complaints.rename(index=str, columns={\"Product\": \"product\", \"Sub-product\": \"sub_product\", \"Issue\": \"issue\", \"Sub-issue\": \"sub_issue\", \"Consumer complaint narrative\": \"complaint_text\", \"Complaint ID\": \"complaint_id\", \"Company\": \"company\"})\n",
    "\n",
    "# Create a new dataframe with 6 columns\n",
    "df_complaints = df_complaints[['complaint_id', 'complaint_text', 'issue', 'sub_issue','product', 'sub_product', 'company']].copy()\n",
    "\n",
    "# new column for understand lenght of complaint_text - I have situations where there are no narratives.\n",
    "df_complaints['complaint_text_length'] = df_complaints['complaint_text'].str.len()\n",
    "\n",
    "df_complaints.head(3)"
   ]
  },
  {
   "cell_type": "code",
   "execution_count": 13,
   "metadata": {},
   "outputs": [],
   "source": [
    "# Remove missing values (NaN)\n",
    "df_complaints = df_complaints[pd.notnull(df_complaints['complaint_text'])]"
   ]
  },
  {
   "cell_type": "code",
   "execution_count": 14,
   "metadata": {},
   "outputs": [
    {
     "data": {
      "text/plain": [
       "(621347, 8)"
      ]
     },
     "execution_count": 14,
     "metadata": {},
     "output_type": "execute_result"
    }
   ],
   "source": [
    "df_complaints.shape"
   ]
  },
  {
   "cell_type": "markdown",
   "metadata": {},
   "source": [
    "I have reduced data set in 60%."
   ]
  },
  {
   "cell_type": "code",
   "execution_count": 15,
   "metadata": {},
   "outputs": [
    {
     "name": "stdout",
     "output_type": "stream",
     "text": [
      "Complaint Narrative with text %: 100.0\n"
     ]
    }
   ],
   "source": [
    "# Percentage of columns with text\n",
    "complaints_with_narrative = df_complaints['complaint_text'].notnull().sum()\n",
    "print('Complaint Narrative with text %: ' + helpers.to_str(round((complaints_with_narrative/len(df_complaints)*100),1)));"
   ]
  },
  {
   "cell_type": "markdown",
   "metadata": {},
   "source": [
    "In the next cell, print out some statistics about the length of text"
   ]
  },
  {
   "cell_type": "code",
   "execution_count": 16,
   "metadata": {},
   "outputs": [],
   "source": [
    "df_complaints['log_length'] = df_complaints.complaint_text_length.apply(np.log2)"
   ]
  },
  {
   "cell_type": "code",
   "execution_count": 17,
   "metadata": {},
   "outputs": [
    {
     "name": "stdout",
     "output_type": "stream",
     "text": [
      "Metrics for Complaint Text length\n",
      "---\n",
      "Mean: 1070.26\n",
      "Median: 707\n",
      "Max: 32317.0\n",
      "90th Percentile: 2304\n",
      "95th Percentile: 3227\n"
     ]
    }
   ],
   "source": [
    "print('Metrics for Complaint Text length')\n",
    "print('---')\n",
    "print(f'Mean: {df_complaints.complaint_text_length.mean():.2f}')\n",
    "print(f'Median: {df_complaints.complaint_text_length.median():.0f}')\n",
    "print(f'Max: {df_complaints.complaint_text_length.max()}')\n",
    "print(f'90th Percentile: {df_complaints.complaint_text_length.quantile(.9):.0f}')\n",
    "print(f'95th Percentile: {df_complaints.complaint_text_length.quantile(.95):.0f}')"
   ]
  },
  {
   "cell_type": "code",
   "execution_count": 18,
   "metadata": {},
   "outputs": [
    {
     "data": {
      "image/png": "[encoded data removed]",
      "text/plain": [
       "<Figure size 600x400 with 1 Axes>"
      ]
     },
     "metadata": {},
     "output_type": "display_data"
    }
   ],
   "source": [
    "plt.hist(df_complaints.log_length,bins=20);\n",
    "plt.title('Distribution of log2 of Complaint Text length')\n",
    "plt.axvline(x=np.log2(df_complaints.complaint_text_length.mean()),color='yellow');"
   ]
  },
  {
   "cell_type": "code",
   "execution_count": 19,
   "metadata": {},
   "outputs": [
    {
     "data": {
      "text/plain": [
       "3227.0"
      ]
     },
     "execution_count": 19,
     "metadata": {},
     "output_type": "execute_result"
    }
   ],
   "source": [
    "df_complaints.complaint_text_length.quantile(.95)"
   ]
  },
  {
   "cell_type": "markdown",
   "metadata": {},
   "source": [
    "**Conclusion**: Half of the Complaint Text is shorther than 707 characters. Though there are some very long pieces of text, 90 percent is shorter than 2304 and 95 percent is shorter than 3227."
   ]
  },
  {
   "cell_type": "markdown",
   "metadata": {},
   "source": [
    "In the next cell, print out some statistics about the data."
   ]
  },
  {
   "cell_type": "code",
   "execution_count": 20,
   "metadata": {},
   "outputs": [
    {
     "name": "stdout",
     "output_type": "stream",
     "text": [
      "Number of complaints:  621347\n",
      "Number of unique products:  18\n",
      "Unique complaint products:  ['Debt collection'\n",
      " 'Credit reporting, credit repair services, or other personal consumer reports'\n",
      " 'Money transfer, virtual currency, or money service' 'Mortgage'\n",
      " 'Vehicle loan or lease' 'Student loan' 'Credit card or prepaid card'\n",
      " 'Checking or savings account' 'Credit card'\n",
      " 'Payday loan, title loan, or personal loan' 'Consumer Loan' 'Payday loan'\n",
      " 'Credit reporting' 'Other financial service' 'Bank account or service'\n",
      " 'Money transfers' 'Prepaid card' 'Virtual currency']\n"
     ]
    }
   ],
   "source": [
    "# print out some stats about the data\n",
    "print('Number of complaints: ', df_complaints.shape[0])  # .shape[0] gives the rows \n",
    "# .unique() gives unique items in a specified column\n",
    "print('Number of unique products: ', (len(df_complaints['product'].unique())))\n",
    "print('Unique complaint products: ', (df_complaints['product'].unique()))"
   ]
  },
  {
   "cell_type": "markdown",
   "metadata": {},
   "source": [
    "The aim is to try to predict through classification what product I can assign to a complaint. So these two columns are really important for this project. "
   ]
  },
  {
   "cell_type": "markdown",
   "metadata": {},
   "source": [
    "Since our classification label is the `product`, it's important to understand it's distribution and balancing.\n",
    "\n",
    "When I have certain high levels of balancing, that is, when a large % of the complaints are classified for number of products, I may have some problems in the accuracy of the models, because it can be high for this same reason. "
   ]
  },
  {
   "cell_type": "markdown",
   "metadata": {},
   "source": [
    "**Step 5 - Distribution of data**\n",
    "\n",
    "To what extent is our data evenly distributed among the different products and complaint levels?\n",
    "\n",
    "Our data set is quite large, especially with regard to examples of different product levels. The data is distributed slightly unbalanced."
   ]
  },
  {
   "cell_type": "code",
   "execution_count": 21,
   "metadata": {},
   "outputs": [
    {
     "name": "stdout",
     "output_type": "stream",
     "text": [
      "\n",
      "Product:\n"
     ]
    },
    {
     "data": {
      "text/html": [
       "<div>\n",
       "<style scoped>\n",
       "    .dataframe tbody tr th:only-of-type {\n",
       "        vertical-align: middle;\n",
       "    }\n",
       "\n",
       "    .dataframe tbody tr th {\n",
       "        vertical-align: top;\n",
       "    }\n",
       "\n",
       "    .dataframe thead th {\n",
       "        text-align: right;\n",
       "    }\n",
       "</style>\n",
       "<table border=\"1\" class=\"dataframe\">\n",
       "  <thead>\n",
       "    <tr style=\"text-align: right;\">\n",
       "      <th></th>\n",
       "      <th>product</th>\n",
       "      <th>Counts</th>\n",
       "    </tr>\n",
       "  </thead>\n",
       "  <tbody>\n",
       "    <tr>\n",
       "      <th>0</th>\n",
       "      <td>Bank account or service</td>\n",
       "      <td>14885</td>\n",
       "    </tr>\n",
       "    <tr>\n",
       "      <th>1</th>\n",
       "      <td>Checking or savings account</td>\n",
       "      <td>26070</td>\n",
       "    </tr>\n",
       "    <tr>\n",
       "      <th>2</th>\n",
       "      <td>Consumer Loan</td>\n",
       "      <td>9473</td>\n",
       "    </tr>\n",
       "    <tr>\n",
       "      <th>3</th>\n",
       "      <td>Credit card</td>\n",
       "      <td>18838</td>\n",
       "    </tr>\n",
       "    <tr>\n",
       "      <th>4</th>\n",
       "      <td>Credit card or prepaid card</td>\n",
       "      <td>44719</td>\n",
       "    </tr>\n",
       "    <tr>\n",
       "      <th>5</th>\n",
       "      <td>Credit reporting</td>\n",
       "      <td>31588</td>\n",
       "    </tr>\n",
       "    <tr>\n",
       "      <th>6</th>\n",
       "      <td>Credit reporting, credit repair services, or o...</td>\n",
       "      <td>216693</td>\n",
       "    </tr>\n",
       "    <tr>\n",
       "      <th>7</th>\n",
       "      <td>Debt collection</td>\n",
       "      <td>125741</td>\n",
       "    </tr>\n",
       "    <tr>\n",
       "      <th>8</th>\n",
       "      <td>Money transfer, virtual currency, or money ser...</td>\n",
       "      <td>11456</td>\n",
       "    </tr>\n",
       "    <tr>\n",
       "      <th>9</th>\n",
       "      <td>Money transfers</td>\n",
       "      <td>1497</td>\n",
       "    </tr>\n",
       "    <tr>\n",
       "      <th>10</th>\n",
       "      <td>Mortgage</td>\n",
       "      <td>70602</td>\n",
       "    </tr>\n",
       "    <tr>\n",
       "      <th>11</th>\n",
       "      <td>Other financial service</td>\n",
       "      <td>292</td>\n",
       "    </tr>\n",
       "    <tr>\n",
       "      <th>12</th>\n",
       "      <td>Payday loan</td>\n",
       "      <td>1746</td>\n",
       "    </tr>\n",
       "    <tr>\n",
       "      <th>13</th>\n",
       "      <td>Payday loan, title loan, or personal loan</td>\n",
       "      <td>8276</td>\n",
       "    </tr>\n",
       "    <tr>\n",
       "      <th>14</th>\n",
       "      <td>Prepaid card</td>\n",
       "      <td>1450</td>\n",
       "    </tr>\n",
       "    <tr>\n",
       "      <th>15</th>\n",
       "      <td>Student loan</td>\n",
       "      <td>27132</td>\n",
       "    </tr>\n",
       "    <tr>\n",
       "      <th>16</th>\n",
       "      <td>Vehicle loan or lease</td>\n",
       "      <td>10873</td>\n",
       "    </tr>\n",
       "    <tr>\n",
       "      <th>17</th>\n",
       "      <td>Virtual currency</td>\n",
       "      <td>16</td>\n",
       "    </tr>\n",
       "  </tbody>\n",
       "</table>\n",
       "</div>"
      ],
      "text/plain": [
       "                                              product  Counts\n",
       "0                             Bank account or service   14885\n",
       "1                         Checking or savings account   26070\n",
       "2                                       Consumer Loan    9473\n",
       "3                                         Credit card   18838\n",
       "4                         Credit card or prepaid card   44719\n",
       "5                                    Credit reporting   31588\n",
       "6   Credit reporting, credit repair services, or o...  216693\n",
       "7                                     Debt collection  125741\n",
       "8   Money transfer, virtual currency, or money ser...   11456\n",
       "9                                     Money transfers    1497\n",
       "10                                           Mortgage   70602\n",
       "11                            Other financial service     292\n",
       "12                                        Payday loan    1746\n",
       "13          Payday loan, title loan, or personal loan    8276\n",
       "14                                       Prepaid card    1450\n",
       "15                                       Student loan   27132\n",
       "16                              Vehicle loan or lease   10873\n",
       "17                                   Virtual currency      16"
      ]
     },
     "metadata": {},
     "output_type": "display_data"
    },
    {
     "name": "stdout",
     "output_type": "stream",
     "text": [
      "\n",
      "Sub Product:\n"
     ]
    },
    {
     "data": {
      "text/html": [
       "<div>\n",
       "<style scoped>\n",
       "    .dataframe tbody tr th:only-of-type {\n",
       "        vertical-align: middle;\n",
       "    }\n",
       "\n",
       "    .dataframe tbody tr th {\n",
       "        vertical-align: top;\n",
       "    }\n",
       "\n",
       "    .dataframe thead th {\n",
       "        text-align: right;\n",
       "    }\n",
       "</style>\n",
       "<table border=\"1\" class=\"dataframe\">\n",
       "  <thead>\n",
       "    <tr style=\"text-align: right;\">\n",
       "      <th></th>\n",
       "      <th>sub_product</th>\n",
       "      <th>Counts</th>\n",
       "    </tr>\n",
       "  </thead>\n",
       "  <tbody>\n",
       "    <tr>\n",
       "      <th>0</th>\n",
       "      <td>(CD) Certificate of deposit</td>\n",
       "      <td>274</td>\n",
       "    </tr>\n",
       "    <tr>\n",
       "      <th>1</th>\n",
       "      <td>Auto</td>\n",
       "      <td>1064</td>\n",
       "    </tr>\n",
       "    <tr>\n",
       "      <th>2</th>\n",
       "      <td>Auto debt</td>\n",
       "      <td>3122</td>\n",
       "    </tr>\n",
       "    <tr>\n",
       "      <th>3</th>\n",
       "      <td>CD (Certificate of Deposit)</td>\n",
       "      <td>449</td>\n",
       "    </tr>\n",
       "    <tr>\n",
       "      <th>4</th>\n",
       "      <td>Cashing a check without an account</td>\n",
       "      <td>134</td>\n",
       "    </tr>\n",
       "    <tr>\n",
       "      <th>...</th>\n",
       "      <td>...</td>\n",
       "      <td>...</td>\n",
       "    </tr>\n",
       "    <tr>\n",
       "      <th>70</th>\n",
       "      <td>Traveler’s/Cashier’s checks</td>\n",
       "      <td>22</td>\n",
       "    </tr>\n",
       "    <tr>\n",
       "      <th>71</th>\n",
       "      <td>VA mortgage</td>\n",
       "      <td>4359</td>\n",
       "    </tr>\n",
       "    <tr>\n",
       "      <th>72</th>\n",
       "      <td>Vehicle lease</td>\n",
       "      <td>962</td>\n",
       "    </tr>\n",
       "    <tr>\n",
       "      <th>73</th>\n",
       "      <td>Vehicle loan</td>\n",
       "      <td>5141</td>\n",
       "    </tr>\n",
       "    <tr>\n",
       "      <th>74</th>\n",
       "      <td>Virtual currency</td>\n",
       "      <td>2116</td>\n",
       "    </tr>\n",
       "  </tbody>\n",
       "</table>\n",
       "<p>75 rows × 2 columns</p>\n",
       "</div>"
      ],
      "text/plain": [
       "                           sub_product  Counts\n",
       "0          (CD) Certificate of deposit     274\n",
       "1                                 Auto    1064\n",
       "2                            Auto debt    3122\n",
       "3          CD (Certificate of Deposit)     449\n",
       "4   Cashing a check without an account     134\n",
       "..                                 ...     ...\n",
       "70         Traveler’s/Cashier’s checks      22\n",
       "71                         VA mortgage    4359\n",
       "72                       Vehicle lease     962\n",
       "73                        Vehicle loan    5141\n",
       "74                    Virtual currency    2116\n",
       "\n",
       "[75 rows x 2 columns]"
      ]
     },
     "metadata": {},
     "output_type": "display_data"
    },
    {
     "name": "stdout",
     "output_type": "stream",
     "text": [
      "\n",
      "Product & Sub Product :\n"
     ]
    },
    {
     "data": {
      "text/html": [
       "<div>\n",
       "<style scoped>\n",
       "    .dataframe tbody tr th:only-of-type {\n",
       "        vertical-align: middle;\n",
       "    }\n",
       "\n",
       "    .dataframe tbody tr th {\n",
       "        vertical-align: top;\n",
       "    }\n",
       "\n",
       "    .dataframe thead th {\n",
       "        text-align: right;\n",
       "    }\n",
       "</style>\n",
       "<table border=\"1\" class=\"dataframe\">\n",
       "  <thead>\n",
       "    <tr style=\"text-align: right;\">\n",
       "      <th></th>\n",
       "      <th>product</th>\n",
       "      <th>sub_product</th>\n",
       "      <th>Counts</th>\n",
       "    </tr>\n",
       "  </thead>\n",
       "  <tbody>\n",
       "    <tr>\n",
       "      <th>0</th>\n",
       "      <td>Bank account or service</td>\n",
       "      <td>(CD) Certificate of deposit</td>\n",
       "      <td>274</td>\n",
       "    </tr>\n",
       "    <tr>\n",
       "      <th>1</th>\n",
       "      <td>Bank account or service</td>\n",
       "      <td>Cashing a check without an account</td>\n",
       "      <td>134</td>\n",
       "    </tr>\n",
       "    <tr>\n",
       "      <th>2</th>\n",
       "      <td>Bank account or service</td>\n",
       "      <td>Checking account</td>\n",
       "      <td>10113</td>\n",
       "    </tr>\n",
       "    <tr>\n",
       "      <th>3</th>\n",
       "      <td>Bank account or service</td>\n",
       "      <td>Other bank product/service</td>\n",
       "      <td>3477</td>\n",
       "    </tr>\n",
       "    <tr>\n",
       "      <th>4</th>\n",
       "      <td>Bank account or service</td>\n",
       "      <td>Savings account</td>\n",
       "      <td>887</td>\n",
       "    </tr>\n",
       "    <tr>\n",
       "      <th>...</th>\n",
       "      <td>...</td>\n",
       "      <td>...</td>\n",
       "      <td>...</td>\n",
       "    </tr>\n",
       "    <tr>\n",
       "      <th>90</th>\n",
       "      <td>Vehicle loan or lease</td>\n",
       "      <td>Lease</td>\n",
       "      <td>1962</td>\n",
       "    </tr>\n",
       "    <tr>\n",
       "      <th>91</th>\n",
       "      <td>Vehicle loan or lease</td>\n",
       "      <td>Loan</td>\n",
       "      <td>8899</td>\n",
       "    </tr>\n",
       "    <tr>\n",
       "      <th>92</th>\n",
       "      <td>Vehicle loan or lease</td>\n",
       "      <td>Title loan</td>\n",
       "      <td>12</td>\n",
       "    </tr>\n",
       "    <tr>\n",
       "      <th>93</th>\n",
       "      <td>Virtual currency</td>\n",
       "      <td>Domestic (US) money transfer</td>\n",
       "      <td>15</td>\n",
       "    </tr>\n",
       "    <tr>\n",
       "      <th>94</th>\n",
       "      <td>Virtual currency</td>\n",
       "      <td>International money transfer</td>\n",
       "      <td>1</td>\n",
       "    </tr>\n",
       "  </tbody>\n",
       "</table>\n",
       "<p>95 rows × 3 columns</p>\n",
       "</div>"
      ],
      "text/plain": [
       "                    product                         sub_product  Counts\n",
       "0   Bank account or service         (CD) Certificate of deposit     274\n",
       "1   Bank account or service  Cashing a check without an account     134\n",
       "2   Bank account or service                    Checking account   10113\n",
       "3   Bank account or service          Other bank product/service    3477\n",
       "4   Bank account or service                     Savings account     887\n",
       "..                      ...                                 ...     ...\n",
       "90    Vehicle loan or lease                               Lease    1962\n",
       "91    Vehicle loan or lease                                Loan    8899\n",
       "92    Vehicle loan or lease                          Title loan      12\n",
       "93         Virtual currency        Domestic (US) money transfer      15\n",
       "94         Virtual currency        International money transfer       1\n",
       "\n",
       "[95 rows x 3 columns]"
      ]
     },
     "metadata": {},
     "output_type": "display_data"
    }
   ],
   "source": [
    "# Show counts by different products and sub product of complaints\n",
    "\n",
    "# group and count by product\n",
    "counts_per_product=df_complaints.groupby(['product']).size().reset_index(name=\"Counts\")\n",
    "print(\"\\nProduct:\")\n",
    "display(counts_per_product)\n",
    "\n",
    "# group by sub product\n",
    "counts_per_sub_product=df_complaints.groupby(['sub_product']).size().reset_index(name=\"Counts\")\n",
    "print(\"\\nSub Product:\")\n",
    "display(counts_per_sub_product)\n",
    "\n",
    "# group by product and sub product\n",
    "counts_complaints_products=df_complaints.groupby(['product', 'sub_product']).size().reset_index(name=\"Counts\")\n",
    "print(\"\\nProduct & Sub Product :\")\n",
    "display(counts_complaints_products)"
   ]
  },
  {
   "cell_type": "markdown",
   "metadata": {},
   "source": [
    "I can see that the products follow an unbalanced distribution, because there are 2 or 3 products that fit more complaints."
   ]
  },
  {
   "cell_type": "code",
   "execution_count": 22,
   "metadata": {},
   "outputs": [
    {
     "data": {
      "text/plain": [
       "<BarContainer object of 18 artists>"
      ]
     },
     "execution_count": 22,
     "metadata": {},
     "output_type": "execute_result"
    },
    {
     "data": {
      "image/png": "[encoded data removed]",
      "text/plain": [
       "<Figure size 576x360 with 1 Axes>"
      ]
     },
     "metadata": {
      "needs_background": "light"
     },
     "output_type": "display_data"
    }
   ],
   "source": [
    "# counts\n",
    "group = ['product']\n",
    "counts = df_complaints.groupby(group).size().reset_index(name=\"Counts\")\n",
    "\n",
    "%matplotlib inline\n",
    "plt.figure(figsize=(8,5))\n",
    "plt.bar(range(len(counts)), counts['Counts'], color = 'blue')"
   ]
  },
  {
   "cell_type": "markdown",
   "metadata": {},
   "source": [
    "Through the analysis I find that the number of complaints per product is unbalanced. The complaints are more focused on `creadit reporting`, `debt collection` and `mortgages`.\n",
    "\n",
    "Some algorithms are often biased towards the majority class, not taking into account the distribution of data. Often the minority classes are treated as outliers and can easily be ignored.\n",
    "\n",
    "There are 18 different product classes. However; It's observed that some classes are contained in others. For instance, `Credit card` and `Prepaid card` are contained in `Credit card or prepaid card` product. \n",
    "If have a new complaint about Credit card and I want to classify it, the algorithm can either classify this complaint as `Credit card` or `Credit card or prepaid` and it would be correct, but this would affect model performance. In order to avoid this problem, the names of some products were mapping to another product . I'll try to consolidate some of these products, joining the products with multiple or repeated descriptions (there are several products of `Loan`, `Credit Card`, `Prepaid`, `Payday`, etc...).\n",
    "\n",
    "Even so, I'll have product with more proipherance, which may even be reasonable as they may allow us a greater accuracy.\n",
    "\n",
    "Let's have a look at the products:"
   ]
  },
  {
   "cell_type": "code",
   "execution_count": 23,
   "metadata": {},
   "outputs": [
    {
     "name": "stdout",
     "output_type": "stream",
     "text": [
      "product\n",
      "Credit reporting, credit repair services, or other personal consumer reports    216693\n",
      "Debt collection                                                                 125741\n",
      "Mortgage                                                                         70602\n",
      "Credit card or prepaid card                                                      44719\n",
      "Credit reporting                                                                 31588\n",
      "Student loan                                                                     27132\n",
      "Checking or savings account                                                      26070\n",
      "Credit card                                                                      18838\n",
      "Bank account or service                                                          14885\n",
      "Money transfer, virtual currency, or money service                               11456\n",
      "Vehicle loan or lease                                                            10873\n",
      "Consumer Loan                                                                     9473\n",
      "Payday loan, title loan, or personal loan                                         8276\n",
      "Payday loan                                                                       1746\n",
      "Money transfers                                                                   1497\n",
      "Prepaid card                                                                      1450\n",
      "Other financial service                                                            292\n",
      "Virtual currency                                                                    16\n",
      "dtype: int64\n"
     ]
    }
   ],
   "source": [
    "# Number of Complaints in each Product\n",
    "product_balanced = (df_complaints.groupby('product').size()).sort_values(ascending = False)\n",
    "print(product_balanced)"
   ]
  },
  {
   "cell_type": "code",
   "execution_count": 24,
   "metadata": {},
   "outputs": [
    {
     "data": {
      "image/png": "[encoded data removed]",
      "text/plain": [
       "<Figure size 576x432 with 1 Axes>"
      ]
     },
     "metadata": {
      "needs_background": "light"
     },
     "output_type": "display_data"
    }
   ],
   "source": [
    "# Number of Complaints in each Product\n",
    "fig = plt.figure(figsize=(8,6))\n",
    "df_complaints.groupby('product').complaint_text.count().sort_values().plot.barh(ylim=0, title='Product by complaint occurences');\n",
    "plt.xlabel('Number of ocurrences', fontsize = 10);\n",
    "plt.ylabel('Products', fontsize = 10);\n",
    "plt.show();"
   ]
  },
  {
   "cell_type": "markdown",
   "metadata": {},
   "source": [
    "Since this is a stage of exploration, I don't seek to make major changes in our data set, I'll leave this work to the next phase. In the next phase of the project I'll prepare our final dataset, and for that I'll consider the following consolidation of the products:\n",
    "\n",
    "* 'Credit reporting, credit repair services, or other personal consumer reports’ --> 'Credit reporting, repair, or other'\n",
    "* 'Credit reporting': 'Credit reporting, repair, or other'\n",
    "* 'Credit card' --> 'Credit card or prepaid card'\n",
    "* 'Prepaid card' --> 'Credit card or prepaid card'\n",
    "* 'Money transfer' --> 'Money transfer, virtual currency, or money service'\n",
    "* 'Virtual currency' --> 'Money transfer, virtual currency, or money service'\n",
    "* 'Payday loan, title loan, or personal loan' -->'Loan',\n",
    "* 'Student loan' --> 'Loan'\n",
    "* 'Consumer Loan' -->'Loan'\n",
    "* 'Payday loan' -->'Loan'\n",
    "* 'Vehicle loan or lease' --> 'Loan'"
   ]
  },
  {
   "cell_type": "markdown",
   "metadata": {},
   "source": [
    "**Step 6 - Looking at a sample text**\n",
    "\n",
    "When analysing examples of complaints I realise that it's complicated to read, because you have lots of characters and they are too long texts.\n",
    "\n",
    "This text can be worked on, with to pre-processing techniques. I can remove the special characters, put the text in small letters, remove the numbers, vectorize, summarize the texts, etc."
   ]
  },
  {
   "cell_type": "code",
   "execution_count": 25,
   "metadata": {},
   "outputs": [
    {
     "data": {
      "text/plain": [
       "['Pioneer has committed several federal violations against me, a Private law abiding Federally Protected Consumer. Each violation is a statutory cost of {$1000.00} each, which does not include my personal cost and fees which shall be determined for taking time to address these issues. Violations committed against me include but not limited to : ( 1 ) Violated 15 USC 1692c ( a ) ; Communication without prior consent, expressed permission. ( 2 ) Violated 15 USC 1692d ; Harass and oppressive use of intercourse about an alleged debt. ( 3 ) Violated 15 USC 1692d ( l ) ; Attacking my reputation, accusing me of owing an alleged debt to you. ( 4 ) Violated 15 USC 1692e ( 9 ) ; Use/distribution of communication with authorization or approval. ( 5 ) Violated 15 USC 1692f ( l ) ; Attempting to collect a debt unauthorized by an agreement between parties.']"
      ]
     },
     "execution_count": 25,
     "metadata": {},
     "output_type": "execute_result"
    }
   ],
   "source": [
    "# Create at a sample text\n",
    "complaint_text = list(df_complaints.complaint_text[:3])[2]\n",
    "\n",
    "# Converting to a list for TfidfVectorizer to use\n",
    "list_sample_complaint_text = []\n",
    "list_sample_complaint_text.append(complaint_text)\n",
    "list_sample_complaint_text "
   ]
  },
  {
   "cell_type": "code",
   "execution_count": 26,
   "metadata": {},
   "outputs": [
    {
     "name": "stdout",
     "output_type": "stream",
     "text": [
      "['00', '1000', '15', '1692c', '1692d', '1692e', '1692f', 'abiding', 'accusing', 'address', 'agreement', 'alleged', 'approval', 'attacking', 'attempting', 'authorization', 'collect', 'committed', 'communication', 'consent', 'consumer', 'cost', 'debt', 'determined', 'distribution', 'does', 'expressed', 'federal', 'federally', 'fees', 'harass', 'include', 'intercourse', 'issues', 'law', 'limited', 'oppressive', 'owing', 'parties', 'permission', 'personal', 'pioneer', 'prior', 'private', 'protected', 'reputation', 'shall', 'statutory', 'taking', 'time', 'unauthorized', 'usc', 'use', 'violated', 'violation', 'violations']\n"
     ]
    }
   ],
   "source": [
    "# Observing what words are extracted from a TfidfVectorizer\n",
    "from sklearn.feature_extraction.text import TfidfVectorizer;\n",
    "\n",
    "TfidfVectorizer = TfidfVectorizer(stop_words='english', sublinear_tf=True);\n",
    "\n",
    "check_TfidfVectorizer = TfidfVectorizer.fit_transform(list_sample_complaint_text);\n",
    "#check_TfidfVectorizer = TfidfVectorizer.fit_transform(helpers.clean_text(list_sample_complaint_text))\n",
    "\n",
    "print(TfidfVectorizer.get_feature_names());"
   ]
  },
  {
   "cell_type": "markdown",
   "metadata": {},
   "source": [
    "I can rely on stop_word removal from tfidf. Through the tests, I see that it removes the punctuations and also all stop words. \n",
    "Therefore, I'll try to use tfidf as it is, but probably I'll apply the cleaning of the text in the next stage  (Text Processing):\n",
    "1. converting all letters to lower\n",
    "2. converting numbers into words \n",
    "3. removing white spaces\n",
    "4. expanding some abbreviations\n",
    "5. removing non ascii\n",
    "6. remove wrong convertion characters from text\n",
    "7. removing xxx since it will be treated as importand words by tf-idf vectorization"
   ]
  },
  {
   "cell_type": "markdown",
   "metadata": {},
   "source": [
    "Do the product use their language?\n",
    "\n",
    "I don't know, because the process is running forever, but probably all in `English`.\n"
   ]
  },
  {
   "cell_type": "code",
   "execution_count": 27,
   "metadata": {},
   "outputs": [],
   "source": [
    "## Observing what words are extracted \n",
    "# from sklearn.feature_extraction.text import TfidfVectorizer;\n",
    "# \n",
    "# df_complaints['complaint_language'] = df_complaints.complaint_text.apply(lambda x: helpers.detect_werror(x))\n",
    "# \n",
    "# # Construct the set of stop-words in the target languages\n",
    "# languages = ['polish','portuguese', 'bulgarian', 'russian', 'ukrainian', 'english', 'romanian']\n",
    "# stop_words = []\n",
    "# for language in languages:\n",
    "#     stop_words.extend(get_stop_words(complaint_language))\n",
    "#     print(stop_words)\n",
    "# \n",
    "# TfidfVectorizer = TfidfVectorizer(stop_words=stop_words, sublinear_tf=True);\n",
    "# \n",
    "# check_TfidfVectorizer = TfidfVectorizer.fit_transform(list_sample_complaint_text);\n",
    "# #check_TfidfVectorizer = TfidfVectorizer.fit_transform(helpers.clean_text(list_sample_complaint_text))\n",
    "# \n",
    "# print(TfidfVectorizer.get_feature_names());"
   ]
  },
  {
   "cell_type": "markdown",
   "metadata": {},
   "source": [
    "**Step 7 - Load to pickle file**"
   ]
  },
  {
   "cell_type": "code",
   "execution_count": 28,
   "metadata": {},
   "outputs": [],
   "source": [
    "# Pickling our subsetted dataframe\n",
    "dest_folder = '../Capstone-Project/classification_data/';\n",
    "file_name = 'df_complaints_pre_final'\n",
    "helpers.save_pickle(dest_folder, df_complaints, file_name);"
   ]
  },
  {
   "cell_type": "markdown",
   "metadata": {},
   "source": [
    "## Up Next\n",
    "\n",
    "This notebook is just about data loading and data exploration. \n",
    "\n",
    "Due to the fact that this dataset is quite large, I have already tried at this stage to reduce the data subset by about 65% based on the narratives of the complaints. After some tests I encountered performance problems in training and model validation leading to Kernel interruption. This happens because I am working locally on my laptop.\n",
    "\n",
    "In the next notebook, I will use this data for pre-processing (identification of features, labels, cleaning and splitting the training and testing data). These will be stored in pickle file in the folder structure to be used in a post phase.\n",
    "\n",
    "For that I used the third notebook **03_data_feature_engineering**."
   ]
  },
  {
   "cell_type": "markdown",
   "metadata": {},
   "source": [
    "-------------------------------------- _END 02 Data Exploration_ --------------------------------------"
   ]
  },
  {
   "cell_type": "code",
   "execution_count": null,
   "metadata": {},
   "outputs": [],
   "source": []
  }
 ],
 "metadata": {
  "kernelspec": {
   "display_name": "Python 3",
   "language": "python",
   "name": "python3"
  },
  "language_info": {
   "codemirror_mode": {
    "name": "ipython",
    "version": 3
   },
   "file_extension": ".py",
   "mimetype": "text/x-python",
   "name": "python",
   "nbconvert_exporter": "python",
   "pygments_lexer": "ipython3",
   "version": "3.7.4"
  }
 },
 "nbformat": 4,
 "nbformat_minor": 2
}