{
 "cells": [
  {
   "cell_type": "markdown",
   "metadata": {},
   "source": [
    "# Machine Learning Engineer Nanodegree\n",
    "\n",
    "## Project: Complaints Text Classification \n",
    "\n",
    "### 06. Deployment Model\n",
    "\n",
    "In the last phase, in the scope of this notebook, I prepared an app, which will allow iteract with the models.\n",
    "This app was developed with resource the Streamlit, in python.\n",
    "\n",
    "The purpose of this app is to ensure that we can classify complaints in a fast and interactive way.\n",
    "Through this app, the user can test the predictions of the selected models.\n",
    "\n",
    "The app has not been published online, but can be run locally using the following command:\n",
    "\n",
    "`streamlit run my_classifier webapp.py`\n",
    "\n",
    "You can now view your Streamlit app in your browser.\n",
    "\n",
    "Local URL: `http://localhost:8501`"
   ]
  },
  {
   "cell_type": "markdown",
   "metadata": {},
   "source": [
    "![WebApp](resources/myclassifier_webapp.jpeg)"
   ]
  },
  {
   "cell_type": "markdown",
   "metadata": {},
   "source": []
  }
 ],
 "metadata": {
  "kernelspec": {
   "display_name": "Python 3",
   "language": "python",
   "name": "python3"
  },
  "language_info": {
   "codemirror_mode": {
    "name": "ipython",
    "version": 3
   },
   "file_extension": ".py",
   "mimetype": "text/x-python",
   "name": "python",
   "nbconvert_exporter": "python",
   "pygments_lexer": "ipython3",
   "version": "3.7.4"
  }
 },
 "nbformat": 4,
 "nbformat_minor": 2
}
