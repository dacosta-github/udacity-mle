{
 "cells": [
  {
   "cell_type": "markdown",
   "metadata": {},
   "source": [
    "# Machine Learning Engineer Nanodegree\n",
    "\n",
    "## Project: Complaints Text Classification \n",
    "\n",
    "### 03. Data Pre-Preprocessing & Data Feature Enginnering\n",
    "\n",
    "At this stage of the project, after the data exploration stage where I understand how the data is distributed, I'll work this data set in order to have a final data set for the project. I'll apply here some mechanisms to reduce in the data set, trying to reduce it by 90%, because this is too big to be worked on locally in my laptopt.\n",
    "\n",
    "After preparing the final dataset, I'll transform the features so that they can be used in our model. This step includes the process of loading dataset and performing basic data exploration and preprocessing. The dataset is then splitted into training and test sets;\n",
    "\n",
    "I prepared this notebook for the data preparation and feature engineering phase."
   ]
  },
  {
   "cell_type": "markdown",
   "metadata": {},
   "source": [
    "**Step 1 - Importing packages**"
   ]
  },
  {
   "cell_type": "code",
   "execution_count": 1,
   "metadata": {},
   "outputs": [],
   "source": [
    "import numpy as np\n",
    "import pandas as pd\n",
    "from scipy.stats import randint\n",
    "import os\n",
    "import re\n",
    "import pickle\n",
    "\n",
    "#Seed - https://www.mikulskibartosz.name/how-to-set-the-global-random_state-in-scikit-learn/\n",
    "seed = 90 #np.random.seed(31415)\n",
    "\n",
    "\n",
    "# Pre-Processing\n",
    "from sklearn.preprocessing import LabelEncoder\n",
    "from langdetect import detect\n",
    "import nltk\n",
    "from nltk.corpus import stopwords\n",
    "from stop_words import get_stop_words\n",
    "from sklearn.feature_extraction.text import TfidfVectorizer\n",
    "from sklearn.feature_extraction.text import CountVectorizer\n",
    "from sklearn.feature_extraction.text import TfidfTransformer\n",
    "\n",
    "# EDA\n",
    "import sweetviz as sv\n",
    "from pandas_profiling import ProfileReport as ppr\n",
    "\n",
    "# Ploting\n",
    "import matplotlib.pyplot as plt\n",
    "import seaborn as sns\n",
    "\n",
    "# Classifiers\n",
    "from sklearn import model_selection\n",
    "from sklearn.feature_selection import chi2\n",
    "\n",
    "from sklearn.naive_bayes import GaussianNB, BernoulliNB, MultinomialNB\n",
    "from sklearn.linear_model import LogisticRegression\n",
    "from sklearn.neighbors import KNeighborsClassifier\n",
    "from sklearn.tree import DecisionTreeClassifier\n",
    "from sklearn.ensemble import RandomForestClassifier\n",
    "from sklearn.svm import LinearSVC, SVC\n",
    "\n",
    "# Metrics to score classifiers\n",
    "from sklearn.metrics import confusion_matrix, classification_report\n",
    "from sklearn.metrics import accuracy_score, precision_score, recall_score, f1_score, auc, roc_curve, log_loss\n",
    "\n",
    "# Data splitting, CV\n",
    "from sklearn.model_selection import train_test_split,cross_val_score, KFold, StratifiedKFold\n",
    "\n",
    "# My libraries:\n",
    "import utilities.helpers as helpers\n",
    "import source_sklearn.train as train\n",
    "\n",
    "# Warnings;\n",
    "import warnings\n",
    "warnings.filterwarnings(\"ignore\")"
   ]
  },
  {
   "cell_type": "markdown",
   "metadata": {},
   "source": [
    "**Step 2 - Load worked dataset and copy to a dataframe with pandas**"
   ]
  },
  {
   "cell_type": "code",
   "execution_count": 2,
   "metadata": {},
   "outputs": [],
   "source": [
    "# Folder\n",
    "dest_folder = '../Capstone-Project/classification_data/';"
   ]
  },
  {
   "cell_type": "code",
   "execution_count": 3,
   "metadata": {},
   "outputs": [
    {
     "name": "stdout",
     "output_type": "stream",
     "text": [
      "df_complaints_pre_final pickle file loaded successfully!\n"
     ]
    }
   ],
   "source": [
    "# Load pickle file to a data frame\n",
    "file_name = 'df_complaints_pre_final'\n",
    "\n",
    "df_complaints = helpers.load_pickle(dest_folder,file_name);"
   ]
  },
  {
   "cell_type": "code",
   "execution_count": 4,
   "metadata": {},
   "outputs": [],
   "source": [
    "df_complaints = df_complaints.copy();"
   ]
  },
  {
   "cell_type": "code",
   "execution_count": 5,
   "metadata": {},
   "outputs": [
    {
     "data": {
      "text/html": [
       "<div>\n",
       "<style scoped>\n",
       "    .dataframe tbody tr th:only-of-type {\n",
       "        vertical-align: middle;\n",
       "    }\n",
       "\n",
       "    .dataframe tbody tr th {\n",
       "        vertical-align: top;\n",
       "    }\n",
       "\n",
       "    .dataframe thead th {\n",
       "        text-align: right;\n",
       "    }\n",
       "</style>\n",
       "<table border=\"1\" class=\"dataframe\">\n",
       "  <thead>\n",
       "    <tr style=\"text-align: right;\">\n",
       "      <th></th>\n",
       "      <th>0</th>\n",
       "      <th>3</th>\n",
       "    </tr>\n",
       "  </thead>\n",
       "  <tbody>\n",
       "    <tr>\n",
       "      <th>complaint_id</th>\n",
       "      <td>3384392</td>\n",
       "      <td>3433198</td>\n",
       "    </tr>\n",
       "    <tr>\n",
       "      <th>complaint_text</th>\n",
       "      <td>transworld systems inc. \\nis trying to collect...</td>\n",
       "      <td>Over the past 2 weeks, I have been receiving e...</td>\n",
       "    </tr>\n",
       "    <tr>\n",
       "      <th>issue</th>\n",
       "      <td>Attempts to collect debt not owed</td>\n",
       "      <td>Communication tactics</td>\n",
       "    </tr>\n",
       "    <tr>\n",
       "      <th>sub_issue</th>\n",
       "      <td>Debt is not yours</td>\n",
       "      <td>Frequent or repeated calls</td>\n",
       "    </tr>\n",
       "    <tr>\n",
       "      <th>product</th>\n",
       "      <td>Debt collection</td>\n",
       "      <td>Debt collection</td>\n",
       "    </tr>\n",
       "    <tr>\n",
       "      <th>sub_product</th>\n",
       "      <td>I do not know</td>\n",
       "      <td>I do not know</td>\n",
       "    </tr>\n",
       "    <tr>\n",
       "      <th>company</th>\n",
       "      <td>TRANSWORLD SYSTEMS INC</td>\n",
       "      <td>Diversified Consultants, Inc.</td>\n",
       "    </tr>\n",
       "    <tr>\n",
       "      <th>complaint_text_length</th>\n",
       "      <td>98</td>\n",
       "      <td>395</td>\n",
       "    </tr>\n",
       "    <tr>\n",
       "      <th>log_length</th>\n",
       "      <td>6.61471</td>\n",
       "      <td>8.62571</td>\n",
       "    </tr>\n",
       "  </tbody>\n",
       "</table>\n",
       "</div>"
      ],
      "text/plain": [
       "                                                                       0  \\\n",
       "complaint_id                                                     3384392   \n",
       "complaint_text         transworld systems inc. \\nis trying to collect...   \n",
       "issue                                  Attempts to collect debt not owed   \n",
       "sub_issue                                              Debt is not yours   \n",
       "product                                                  Debt collection   \n",
       "sub_product                                                I do not know   \n",
       "company                                           TRANSWORLD SYSTEMS INC   \n",
       "complaint_text_length                                                 98   \n",
       "log_length                                                       6.61471   \n",
       "\n",
       "                                                                       3  \n",
       "complaint_id                                                     3433198  \n",
       "complaint_text         Over the past 2 weeks, I have been receiving e...  \n",
       "issue                                              Communication tactics  \n",
       "sub_issue                                     Frequent or repeated calls  \n",
       "product                                                  Debt collection  \n",
       "sub_product                                                I do not know  \n",
       "company                                    Diversified Consultants, Inc.  \n",
       "complaint_text_length                                                395  \n",
       "log_length                                                       8.62571  "
      ]
     },
     "execution_count": 5,
     "metadata": {},
     "output_type": "execute_result"
    }
   ],
   "source": [
    "df_complaints.head(2).T"
   ]
  },
  {
   "cell_type": "markdown",
   "metadata": {},
   "source": [
    "**Step 3 - Data consolidation**"
   ]
  },
  {
   "cell_type": "markdown",
   "metadata": {},
   "source": [
    "I'll prepare our final data set, and for that I consider the following product consolidation, which I mentioned earlier.\n",
    "\n",
    "* `Credit reporting, credit repair services, or other personal consumer reports’ --> 'Credit reporting, repair, or other'\n",
    "* `Credit reporting`: `Credit reporting, repair, or other`\n",
    "* `Credit card` --> `Credit card or prepaid card`\n",
    "* `Prepaid card` --> `Credit card or prepaid card`\n",
    "* `Money transfer` --> `Money transfer, virtual currency, or money service`\n",
    "* `Virtual currency` --> `Money transfer, virtual currency, or money service`\n",
    "* `Payday loan, title loan, or personal loan` --> `Loan`\n",
    "* `Student loan` --> `Loan`\n",
    "* `Consumer Loan` --> `Loan`\n",
    "* `Payday loan` --> `Loan`\n",
    "* `Vehicle loan or lease` --> `Loan`\n"
   ]
  },
  {
   "cell_type": "code",
   "execution_count": 6,
   "metadata": {},
   "outputs": [],
   "source": [
    "# product consolidation\n",
    "df_complaints['product_consolidation'] = df_complaints['product']\n",
    "\n",
    "# Renaming products\n",
    "df_complaints.replace({'product_consolidation': \n",
    "             {\n",
    "                'Credit reporting, credit repair services, or other personal consumer reports': \n",
    "                'Credit reporting, repair, or other', \n",
    "                'Credit reporting': 'Credit reporting, repair, or other',\n",
    "                'Credit card': 'Credit card or prepaid card',\n",
    "                'Prepaid card': 'Credit card or prepaid card',\n",
    "                'Money transfers': 'Money transfer, virtual currency, or money service',\n",
    "                'Virtual currency': 'Money transfer, virtual currency, or money service',\n",
    "                'Payday loan, title loan, or personal loan':'Loan',\n",
    "                'Student loan': 'Loan',\n",
    "                'Consumer Loan':'Loan',\n",
    "                'Payday loan':'Loan',\n",
    "                'Vehicle loan or lease': 'Loan'}\n",
    "                }, \n",
    "            inplace= True);\n",
    "\n"
   ]
  },
  {
   "cell_type": "code",
   "execution_count": 7,
   "metadata": {},
   "outputs": [
    {
     "name": "stdout",
     "output_type": "stream",
     "text": [
      "product_consolidation\n",
      "Credit reporting, repair, or other                    248281\n",
      "Debt collection                                       125741\n",
      "Mortgage                                               70602\n",
      "Credit card or prepaid card                            65007\n",
      "Loan                                                   57500\n",
      "Checking or savings account                            26070\n",
      "Bank account or service                                14885\n",
      "Money transfer, virtual currency, or money service     12969\n",
      "Other financial service                                  292\n",
      "dtype: int64\n"
     ]
    }
   ],
   "source": [
    "# Number of Complaints in each Product\n",
    "product_consolidation_balanced = (df_complaints.groupby('product_consolidation').size()).sort_values(ascending = False)\n",
    "print(product_consolidation_balanced)"
   ]
  },
  {
   "cell_type": "code",
   "execution_count": 8,
   "metadata": {},
   "outputs": [
    {
     "data": {
      "text/plain": [
       "<BarContainer object of 9 artists>"
      ]
     },
     "execution_count": 8,
     "metadata": {},
     "output_type": "execute_result"
    },
    {
     "data": {
      "image/png": "[encoded data removed]",
      "text/plain": [
       "<Figure size 576x360 with 1 Axes>"
      ]
     },
     "metadata": {
      "needs_background": "light"
     },
     "output_type": "display_data"
    }
   ],
   "source": [
    "# Product distribution \n",
    "group = ['product_consolidation']\n",
    "counts = df_complaints.groupby(group).size().reset_index(name=\"Counts\")\n",
    "\n",
    "%matplotlib inline\n",
    "plt.figure(figsize=(8,5))\n",
    "plt.bar(range(len(counts)), counts['Counts'], color = 'blue')"
   ]
  },
  {
   "cell_type": "markdown",
   "metadata": {},
   "source": [
    "**Step 4 - Label-Encoding preparation**\n",
    "\n",
    "Considering the algorithms we will use, it is important to create a calculated column encoding the `product` as an integer, because categorical variables are better represented as integers.\n",
    "\n",
    "We have verified that the `product` column in the data, contains string (categorical values), and to prepare them for the extraction of features, I'll want to convert them into numeric values, in a coherent way. \n",
    "In practice I try to assign a new unique-identifier to each different product."
   ]
  },
  {
   "cell_type": "markdown",
   "metadata": {},
   "source": [
    "Approaches to convert categorical values to numerical:¶\n",
    "1. `Label-Encoding`: It can only be applied to target variable.\n",
    "2. `One-Hot-Encoding`: It's applied to training variables.\n",
    "3. `Find & Replace`: Find categorical values & replace them with a numerical value.\n"
   ]
  },
  {
   "cell_type": "code",
   "execution_count": 9,
   "metadata": {},
   "outputs": [],
   "source": [
    "#Label-Encoding: It can only be applied to target variable, in this case new variable product_consolidation .\n",
    "encoder = LabelEncoder();\n",
    "\n",
    "df_complaints['product_consolidation_label'] = encoder.fit_transform(df_complaints['product_consolidation'])\n"
   ]
  },
  {
   "cell_type": "code",
   "execution_count": 10,
   "metadata": {},
   "outputs": [
    {
     "name": "stdout",
     "output_type": "stream",
     "text": [
      "product_consolidation_label\n",
      "3    248281\n",
      "4    125741\n",
      "7     70602\n",
      "2     65007\n",
      "5     57500\n",
      "1     26070\n",
      "0     14885\n",
      "6     12969\n",
      "8       292\n",
      "dtype: int64\n"
     ]
    }
   ],
   "source": [
    "# Number of Complaints in each Product\n",
    "product_consolidation_balanced = (df_complaints.groupby('product_consolidation_label').size().sort_values()).sort_values(ascending = False)\n",
    "print(product_consolidation_balanced)"
   ]
  },
  {
   "cell_type": "code",
   "execution_count": 11,
   "metadata": {},
   "outputs": [
    {
     "data": {
      "image/png": "[encoded data removed]",
      "text/plain": [
       "<Figure size 432x288 with 2 Axes>"
      ]
     },
     "metadata": {
      "needs_background": "light"
     },
     "output_type": "display_data"
    }
   ],
   "source": [
    "# Correlations\n",
    "## df_complaints.corr()\n",
    "corrMatrix = df_complaints.corr()\n",
    "sns.heatmap(corrMatrix, annot=True)\n",
    "plt.show()"
   ]
  },
  {
   "cell_type": "code",
   "execution_count": 12,
   "metadata": {},
   "outputs": [
    {
     "data": {
      "text/html": [
       "<div>\n",
       "<style scoped>\n",
       "    .dataframe tbody tr th:only-of-type {\n",
       "        vertical-align: middle;\n",
       "    }\n",
       "\n",
       "    .dataframe tbody tr th {\n",
       "        vertical-align: top;\n",
       "    }\n",
       "\n",
       "    .dataframe thead th {\n",
       "        text-align: right;\n",
       "    }\n",
       "</style>\n",
       "<table border=\"1\" class=\"dataframe\">\n",
       "  <thead>\n",
       "    <tr style=\"text-align: right;\">\n",
       "      <th></th>\n",
       "      <th>0</th>\n",
       "      <th>3</th>\n",
       "    </tr>\n",
       "  </thead>\n",
       "  <tbody>\n",
       "    <tr>\n",
       "      <th>complaint_id</th>\n",
       "      <td>3384392</td>\n",
       "      <td>3433198</td>\n",
       "    </tr>\n",
       "    <tr>\n",
       "      <th>complaint_text</th>\n",
       "      <td>transworld systems inc. \\nis trying to collect...</td>\n",
       "      <td>Over the past 2 weeks, I have been receiving e...</td>\n",
       "    </tr>\n",
       "    <tr>\n",
       "      <th>issue</th>\n",
       "      <td>Attempts to collect debt not owed</td>\n",
       "      <td>Communication tactics</td>\n",
       "    </tr>\n",
       "    <tr>\n",
       "      <th>sub_issue</th>\n",
       "      <td>Debt is not yours</td>\n",
       "      <td>Frequent or repeated calls</td>\n",
       "    </tr>\n",
       "    <tr>\n",
       "      <th>product</th>\n",
       "      <td>Debt collection</td>\n",
       "      <td>Debt collection</td>\n",
       "    </tr>\n",
       "    <tr>\n",
       "      <th>sub_product</th>\n",
       "      <td>I do not know</td>\n",
       "      <td>I do not know</td>\n",
       "    </tr>\n",
       "    <tr>\n",
       "      <th>company</th>\n",
       "      <td>TRANSWORLD SYSTEMS INC</td>\n",
       "      <td>Diversified Consultants, Inc.</td>\n",
       "    </tr>\n",
       "    <tr>\n",
       "      <th>complaint_text_length</th>\n",
       "      <td>98</td>\n",
       "      <td>395</td>\n",
       "    </tr>\n",
       "    <tr>\n",
       "      <th>log_length</th>\n",
       "      <td>6.61471</td>\n",
       "      <td>8.62571</td>\n",
       "    </tr>\n",
       "    <tr>\n",
       "      <th>product_consolidation</th>\n",
       "      <td>Debt collection</td>\n",
       "      <td>Debt collection</td>\n",
       "    </tr>\n",
       "    <tr>\n",
       "      <th>product_consolidation_label</th>\n",
       "      <td>4</td>\n",
       "      <td>4</td>\n",
       "    </tr>\n",
       "  </tbody>\n",
       "</table>\n",
       "</div>"
      ],
      "text/plain": [
       "                                                                             0  \\\n",
       "complaint_id                                                           3384392   \n",
       "complaint_text               transworld systems inc. \\nis trying to collect...   \n",
       "issue                                        Attempts to collect debt not owed   \n",
       "sub_issue                                                    Debt is not yours   \n",
       "product                                                        Debt collection   \n",
       "sub_product                                                      I do not know   \n",
       "company                                                 TRANSWORLD SYSTEMS INC   \n",
       "complaint_text_length                                                       98   \n",
       "log_length                                                             6.61471   \n",
       "product_consolidation                                          Debt collection   \n",
       "product_consolidation_label                                                  4   \n",
       "\n",
       "                                                                             3  \n",
       "complaint_id                                                           3433198  \n",
       "complaint_text               Over the past 2 weeks, I have been receiving e...  \n",
       "issue                                                    Communication tactics  \n",
       "sub_issue                                           Frequent or repeated calls  \n",
       "product                                                        Debt collection  \n",
       "sub_product                                                      I do not know  \n",
       "company                                          Diversified Consultants, Inc.  \n",
       "complaint_text_length                                                      395  \n",
       "log_length                                                             8.62571  \n",
       "product_consolidation                                          Debt collection  \n",
       "product_consolidation_label                                                  4  "
      ]
     },
     "execution_count": 12,
     "metadata": {},
     "output_type": "execute_result"
    }
   ],
   "source": [
    "df_complaints.head(2).T"
   ]
  },
  {
   "cell_type": "markdown",
   "metadata": {},
   "source": [
    "**Step 4 - Define final dataset and reduce them**\n",
    "\n",
    "Once I have the consolidated data, I'll transform the final data set, selecting only those columns that are of interest for the purpose of this project."
   ]
  },
  {
   "cell_type": "code",
   "execution_count": 13,
   "metadata": {},
   "outputs": [],
   "source": [
    "# Create a new dataframe with 3 important columns\n",
    "df_complaints_pre_final = df_complaints[['complaint_text', 'product_consolidation', 'product_consolidation_label']]\n",
    "\n",
    "df_complaints_pre_final = df_complaints_pre_final.rename(index=str, columns={\"product_consolidation\": \"product\", \"complaint_text\": \"complaint_text\", 'product_consolidation_label':'product_id'})"
   ]
  },
  {
   "cell_type": "code",
   "execution_count": 14,
   "metadata": {},
   "outputs": [],
   "source": [
    "df_complaints_pre_final.head(2);"
   ]
  },
  {
   "cell_type": "code",
   "execution_count": 15,
   "metadata": {},
   "outputs": [
    {
     "name": "stdout",
     "output_type": "stream",
     "text": [
      "product\n",
      "Credit reporting, repair, or other                    248281\n",
      "Debt collection                                       125741\n",
      "Mortgage                                               70602\n",
      "Credit card or prepaid card                            65007\n",
      "Loan                                                   57500\n",
      "Checking or savings account                            26070\n",
      "Bank account or service                                14885\n",
      "Money transfer, virtual currency, or money service     12969\n",
      "Other financial service                                  292\n",
      "dtype: int64\n"
     ]
    }
   ],
   "source": [
    "# Number of Complaints in each Product\n",
    "product_balanced = (df_complaints_pre_final.groupby('product').size()).sort_values(ascending = False)\n",
    "print(product_balanced)"
   ]
  },
  {
   "cell_type": "code",
   "execution_count": 16,
   "metadata": {},
   "outputs": [
    {
     "name": "stdout",
     "output_type": "stream",
     "text": [
      "Before reduce dataset \n"
     ]
    },
    {
     "data": {
      "text/plain": [
       "(621347, 3)"
      ]
     },
     "execution_count": 16,
     "metadata": {},
     "output_type": "execute_result"
    }
   ],
   "source": [
    "print('Before reduce dataset ')  \n",
    "df_complaints_pre_final.shape"
   ]
  },
  {
   "cell_type": "markdown",
   "metadata": {},
   "source": [
    "Based on the volume of data that exists for each `product`, I'll reduce this dataset (**into 97% of the data**).\n"
   ]
  },
  {
   "cell_type": "code",
   "execution_count": 17,
   "metadata": {},
   "outputs": [],
   "source": [
    "frac = 0.97\n",
    "\n",
    "df_complaints_final = helpers.reduce_dataset(df_complaints_pre_final, 'product','Credit reporting, repair, or other', frac);\n",
    "df_complaints_final = helpers.reduce_dataset(df_complaints_final, 'product','Debt collection', frac);\n",
    "df_complaints_final = helpers.reduce_dataset(df_complaints_final, 'product','Mortgage', frac);\n",
    "df_complaints_final = helpers.reduce_dataset(df_complaints_final, 'product','Credit card or prepaid card', frac);\n",
    "df_complaints_final = helpers.reduce_dataset(df_complaints_final, 'product','Loan', frac);\n",
    "df_complaints_final = helpers.reduce_dataset(df_complaints_final, 'product','Checking or savings account', frac);\n",
    "df_complaints_final = helpers.reduce_dataset(df_complaints_final, 'product','Bank account or service', frac);\n",
    "\n",
    "df_complaints = df_complaints_final.copy();"
   ]
  },
  {
   "cell_type": "code",
   "execution_count": 18,
   "metadata": {},
   "outputs": [
    {
     "name": "stdout",
     "output_type": "stream",
     "text": [
      "After reduce dataset \n"
     ]
    },
    {
     "data": {
      "text/plain": [
       "(31503, 3)"
      ]
     },
     "execution_count": 18,
     "metadata": {},
     "output_type": "execute_result"
    }
   ],
   "source": [
    "print('After reduce dataset ')  \n",
    "df_complaints.shape"
   ]
  },
  {
   "cell_type": "code",
   "execution_count": 19,
   "metadata": {},
   "outputs": [
    {
     "name": "stdout",
     "output_type": "stream",
     "text": [
      "<class 'pandas.core.frame.DataFrame'>\n",
      "Index: 31503 entries, 26 to 1827272\n",
      "Data columns (total 3 columns):\n",
      " #   Column          Non-Null Count  Dtype \n",
      "---  ------          --------------  ----- \n",
      " 0   complaint_text  31503 non-null  object\n",
      " 1   product         31503 non-null  object\n",
      " 2   product_id      31503 non-null  int64 \n",
      "dtypes: int64(1), object(2)\n",
      "memory usage: 984.5+ KB\n"
     ]
    }
   ],
   "source": [
    "df_complaints_final.info();"
   ]
  },
  {
   "cell_type": "code",
   "execution_count": 20,
   "metadata": {},
   "outputs": [
    {
     "data": {
      "text/html": [
       "<div>\n",
       "<style scoped>\n",
       "    .dataframe tbody tr th:only-of-type {\n",
       "        vertical-align: middle;\n",
       "    }\n",
       "\n",
       "    .dataframe tbody tr th {\n",
       "        vertical-align: top;\n",
       "    }\n",
       "\n",
       "    .dataframe thead th {\n",
       "        text-align: right;\n",
       "    }\n",
       "</style>\n",
       "<table border=\"1\" class=\"dataframe\">\n",
       "  <thead>\n",
       "    <tr style=\"text-align: right;\">\n",
       "      <th></th>\n",
       "      <th>complaint_text</th>\n",
       "      <th>product</th>\n",
       "      <th>product_id</th>\n",
       "    </tr>\n",
       "  </thead>\n",
       "  <tbody>\n",
       "    <tr>\n",
       "      <th>26</th>\n",
       "      <td>I was sold access to an event digitally, of wh...</td>\n",
       "      <td>Money transfer, virtual currency, or money ser...</td>\n",
       "      <td>6</td>\n",
       "    </tr>\n",
       "    <tr>\n",
       "      <th>217</th>\n",
       "      <td>On XX/XX/XXXX, I purchased two {$500.00} visa ...</td>\n",
       "      <td>Credit card or prepaid card</td>\n",
       "      <td>2</td>\n",
       "    </tr>\n",
       "    <tr>\n",
       "      <th>425</th>\n",
       "      <td>On XX/XX/XXXX/2016, I was excited to go in and...</td>\n",
       "      <td>Loan</td>\n",
       "      <td>5</td>\n",
       "    </tr>\n",
       "    <tr>\n",
       "      <th>448</th>\n",
       "      <td>Small business ( checking and savings ) ( corp...</td>\n",
       "      <td>Checking or savings account</td>\n",
       "      <td>1</td>\n",
       "    </tr>\n",
       "    <tr>\n",
       "      <th>467</th>\n",
       "      <td>I had never heard of Mariner Finance before to...</td>\n",
       "      <td>Loan</td>\n",
       "      <td>5</td>\n",
       "    </tr>\n",
       "  </tbody>\n",
       "</table>\n",
       "</div>"
      ],
      "text/plain": [
       "                                        complaint_text  \\\n",
       "26   I was sold access to an event digitally, of wh...   \n",
       "217  On XX/XX/XXXX, I purchased two {$500.00} visa ...   \n",
       "425  On XX/XX/XXXX/2016, I was excited to go in and...   \n",
       "448  Small business ( checking and savings ) ( corp...   \n",
       "467  I had never heard of Mariner Finance before to...   \n",
       "\n",
       "                                               product  product_id  \n",
       "26   Money transfer, virtual currency, or money ser...           6  \n",
       "217                        Credit card or prepaid card           2  \n",
       "425                                               Loan           5  \n",
       "448                        Checking or savings account           1  \n",
       "467                                               Loan           5  "
      ]
     },
     "execution_count": 20,
     "metadata": {},
     "output_type": "execute_result"
    }
   ],
   "source": [
    "df_complaints_final.head()"
   ]
  },
  {
   "cell_type": "markdown",
   "metadata": {},
   "source": [
    "I'll create specific datasets and dictionaries, for the features and for the labels:"
   ]
  },
  {
   "cell_type": "code",
   "execution_count": 21,
   "metadata": {},
   "outputs": [
    {
     "name": "stdout",
     "output_type": "stream",
     "text": [
      "------------- PRODUCTS ~ LABELS ------------\n",
      "product_id  product                                           \n",
      "6           Money transfer, virtual currency, or money service    12969\n",
      "3           Credit reporting, repair, or other                     7448\n",
      "4           Debt collection                                        3772\n",
      "7           Mortgage                                               2118\n",
      "2           Credit card or prepaid card                            1950\n",
      "5           Loan                                                   1725\n",
      "1           Checking or savings account                             782\n",
      "0           Bank account or service                                 447\n",
      "8           Other financial service                                 292\n",
      "dtype: int64\n",
      "\n",
      "------------- DIC. PRODUCTS ~ Dic. LABELS ------------\n",
      "\n",
      "{0: 'Bank account or service', 1: 'Checking or savings account', 2: 'Credit card or prepaid card', 3: 'Credit reporting, repair, or other', 4: 'Debt collection', 5: 'Loan', 6: 'Money transfer, virtual currency, or money service', 7: 'Mortgage', 8: 'Other financial service'}\n",
      "\n",
      "{0: 'Bank account or service', 1: 'Checking or savings account', 2: 'Credit card or prepaid card', 3: 'Credit reporting, repair, or other', 4: 'Debt collection', 5: 'Loan', 6: 'Money transfer, virtual currency, or money service', 7: 'Mortgage', 8: 'Other financial service'}\n",
      "\n",
      "\n",
      "------------- COMPLAINTS ~ FEATURES ------------\n",
      "                                            complaint_text\n",
      "26       I was sold access to an event digitally, of wh...\n",
      "217      On XX/XX/XXXX, I purchased two {$500.00} visa ...\n",
      "425      On XX/XX/XXXX/2016, I was excited to go in and...\n",
      "448      Small business ( checking and savings ) ( corp...\n",
      "467      I had never heard of Mariner Finance before to...\n",
      "...                                                    ...\n",
      "1826949  I applied for and was approved for the XXXX Cr...\n",
      "1826979  I have an online bank account with HSBC. My AT...\n",
      "1827014  I just logged on to a credit site to join and ...\n",
      "1827019  I recieved a collections call from an unknown ...\n",
      "1827272  On XX/XX/2019 I initiated a transfer from my X...\n",
      "\n",
      "[31503 rows x 1 columns]\n",
      "\n"
     ]
    }
   ],
   "source": [
    "df_products = df_complaints_final[['product']]\n",
    "products = df_complaints_final['product']\n",
    "\n",
    "df_products_id = df_complaints_final[['product_id']]\n",
    "products_id = df_complaints_final['product_id']\n",
    "\n",
    "# Labels\n",
    "df_labels = df_complaints_final[['product_id', 'product']].drop_duplicates().sort_values(by = 'product_id', ascending = True)\n",
    "print('------------- PRODUCTS ~ LABELS ------------')\n",
    "#print(df_products)\n",
    "print((df_complaints_final.groupby(['product_id', 'product']).size()).sort_values(ascending = False))\n",
    "print('')\n",
    "\n",
    "# Dictionaries for labels\n",
    "print('------------- DIC. PRODUCTS ~ Dic. LABELS ------------')\n",
    "product_to_id = dict(df_labels.values) # key-value pair\n",
    "id_to_product = dict(df_labels[['product_id', 'product']].values)  #key-value pair\n",
    "print('')\n",
    "print(product_to_id)\n",
    "print('')\n",
    "print(id_to_product)\n",
    "print('')\n",
    "      \n",
    "# Features\n",
    "df_pre_features  = df_complaints_final[['complaint_text']]\n",
    "pre_features  = df_complaints_final['complaint_text']\n",
    "print('')\n",
    "print('------------- COMPLAINTS ~ FEATURES ------------')\n",
    "print(df_pre_features)\n",
    "print('')"
   ]
  },
  {
   "cell_type": "code",
   "execution_count": 22,
   "metadata": {},
   "outputs": [],
   "source": [
    "# Pickling our subsetted dataframe\n",
    "file_name = 'df_complaints_final'\n",
    "helpers.save_pickle(dest_folder, df_complaints_final, file_name);\n",
    "\n",
    "file_name = 'df_pre_features'\n",
    "helpers.save_pickle(dest_folder, df_pre_features, file_name);\n",
    "\n",
    "file_name = 'df_products'\n",
    "helpers.save_pickle(dest_folder, df_products, file_name);\n",
    "\n",
    "file_name = 'df_products_id'\n",
    "helpers.save_pickle(dest_folder, df_products_id, file_name);\n",
    "\n",
    "file_name = 'df_labels'\n",
    "helpers.save_pickle(dest_folder, df_labels, file_name);\n",
    "\n",
    "file_name = 'products'\n",
    "helpers.save_pickle(dest_folder, products, file_name);\n",
    "\n",
    "file_name = 'pre_features'\n",
    "helpers.save_pickle(dest_folder, pre_features, file_name);"
   ]
  },
  {
   "cell_type": "markdown",
   "metadata": {},
   "source": [
    "**Step 4 - Final data set analysis**"
   ]
  },
  {
   "cell_type": "code",
   "execution_count": null,
   "metadata": {},
   "outputs": [
    {
     "data": {
      "application/vnd.jupyter.widget-view+json": {
       "model_id": "9bc6dc75ad3945fea8c9deb80cd795aa",
       "version_major": 2,
       "version_minor": 0
      },
      "text/plain": [
       "HBox(children=(HTML(value='Summarize dataset'), FloatProgress(value=0.0, max=18.0), HTML(value='')))"
      ]
     },
     "metadata": {},
     "output_type": "display_data"
    },
    {
     "name": "stdout",
     "output_type": "stream",
     "text": [
      "\n"
     ]
    },
    {
     "data": {
      "application/vnd.jupyter.widget-view+json": {
       "model_id": "484ad8b49bdf402bb43b5da94dd84abf",
       "version_major": 2,
       "version_minor": 0
      },
      "text/plain": [
       "HBox(children=(HTML(value='Generate report structure'), FloatProgress(value=0.0, max=1.0), HTML(value='')))"
      ]
     },
     "metadata": {},
     "output_type": "display_data"
    }
   ],
   "source": [
    "PANDAS_REPORT_COMPLAINTS = ppr(df_complaints_final, title=\"Pandas Profiling Reporting - COMPLAINTS\")\n",
    "PANDAS_REPORT_COMPLAINTS.to_notebook_iframe();"
   ]
  },
  {
   "cell_type": "markdown",
   "metadata": {},
   "source": [
    "**Step 5 - Text processing and Split Data**\n",
    "\n",
    "The aim of this project is the construction of a complaints classifier. And this task is a comparison text; a text which looks at a given complaint and product text, compares them and predicts whether a complaint has been classified from the product. To make this comparison effective, and train a classifier, I'll  have to do a few more things: \n",
    "\n",
    "First, I'll clean pre-process all the complaints to be easily compared with the products:\n",
    "\n",
    "1. converting all letters to lower\n",
    "2. converting numbers into words \n",
    "3. removing white spaces\n",
    "4. expanding some abbreviations\n",
    "5. removing non ascii\n",
    "6. remove wrong convertion characters from text\n",
    "7. removing xxx since it will be treated as importand words by tf-idf vectorization\n",
    "\n",
    "Then I'll divide our data into `train` data and `test` data, so that they can be used to train a classifier and evaluate it, respectively.\n",
    "\n",
    "The first 80% is training and the last 20% is test set. If we set the shuffle parameter to True, the data will be randomly split:"
   ]
  },
  {
   "cell_type": "code",
   "execution_count": 24,
   "metadata": {},
   "outputs": [
    {
     "name": "stdout",
     "output_type": "stream",
     "text": [
      "\u001b[34mfrom\u001b[39;49;00m \u001b[04m\u001b[36m__future__\u001b[39;49;00m \u001b[34mimport\u001b[39;49;00m print_function\n",
      "\n",
      "\u001b[34mimport\u001b[39;49;00m \u001b[04m\u001b[36margparse\u001b[39;49;00m\n",
      "\u001b[34mimport\u001b[39;49;00m \u001b[04m\u001b[36mnumpy\u001b[39;49;00m \u001b[34mas\u001b[39;49;00m \u001b[04m\u001b[36mnp\u001b[39;49;00m\n",
      "\u001b[34mimport\u001b[39;49;00m \u001b[04m\u001b[36mos\u001b[39;49;00m\n",
      "\u001b[34mimport\u001b[39;49;00m \u001b[04m\u001b[36mpandas\u001b[39;49;00m \u001b[34mas\u001b[39;49;00m \u001b[04m\u001b[36mpd\u001b[39;49;00m\n",
      "\u001b[34mimport\u001b[39;49;00m \u001b[04m\u001b[36mutilities\u001b[39;49;00m\u001b[04m\u001b[36m.\u001b[39;49;00m\u001b[04m\u001b[36mhelpers\u001b[39;49;00m \u001b[34mas\u001b[39;49;00m \u001b[04m\u001b[36mhelpers\u001b[39;49;00m\n",
      "\u001b[34mimport\u001b[39;49;00m \u001b[04m\u001b[36msklearn\u001b[39;49;00m\u001b[04m\u001b[36m.\u001b[39;49;00m\u001b[04m\u001b[36mexternals\u001b[39;49;00m\n",
      "\u001b[34mfrom\u001b[39;49;00m \u001b[04m\u001b[36msklearn\u001b[39;49;00m\u001b[04m\u001b[36m.\u001b[39;49;00m\u001b[04m\u001b[36mfeature_extraction\u001b[39;49;00m\u001b[04m\u001b[36m.\u001b[39;49;00m\u001b[04m\u001b[36mtext\u001b[39;49;00m \u001b[34mimport\u001b[39;49;00m TfidfVectorizer\n",
      "\u001b[34mfrom\u001b[39;49;00m \u001b[04m\u001b[36msklearn\u001b[39;49;00m\u001b[04m\u001b[36m.\u001b[39;49;00m\u001b[04m\u001b[36mfeature_extraction\u001b[39;49;00m\u001b[04m\u001b[36m.\u001b[39;49;00m\u001b[04m\u001b[36mtext\u001b[39;49;00m \u001b[34mimport\u001b[39;49;00m CountVectorizer\n",
      "\u001b[34mfrom\u001b[39;49;00m \u001b[04m\u001b[36msklearn\u001b[39;49;00m\u001b[04m\u001b[36m.\u001b[39;49;00m\u001b[04m\u001b[36mfeature_extraction\u001b[39;49;00m\u001b[04m\u001b[36m.\u001b[39;49;00m\u001b[04m\u001b[36mtext\u001b[39;49;00m \u001b[34mimport\u001b[39;49;00m TfidfTransformer\n",
      "\u001b[34mfrom\u001b[39;49;00m \u001b[04m\u001b[36msklearn\u001b[39;49;00m\u001b[04m\u001b[36m.\u001b[39;49;00m\u001b[04m\u001b[36mfeature_selection\u001b[39;49;00m \u001b[34mimport\u001b[39;49;00m chi2\n",
      "\n",
      "\u001b[34mfrom\u001b[39;49;00m \u001b[04m\u001b[36msklearn\u001b[39;49;00m\u001b[04m\u001b[36m.\u001b[39;49;00m\u001b[04m\u001b[36mnaive_bayes\u001b[39;49;00m \u001b[34mimport\u001b[39;49;00m GaussianNB, MultinomialNB\n",
      "\u001b[34mfrom\u001b[39;49;00m \u001b[04m\u001b[36msklearn\u001b[39;49;00m\u001b[04m\u001b[36m.\u001b[39;49;00m\u001b[04m\u001b[36mlinear_model\u001b[39;49;00m \u001b[34mimport\u001b[39;49;00m LogisticRegression\n",
      "\u001b[34mfrom\u001b[39;49;00m \u001b[04m\u001b[36msklearn\u001b[39;49;00m\u001b[04m\u001b[36m.\u001b[39;49;00m\u001b[04m\u001b[36mneighbors\u001b[39;49;00m \u001b[34mimport\u001b[39;49;00m KNeighborsClassifier\n",
      "\u001b[34mfrom\u001b[39;49;00m \u001b[04m\u001b[36msklearn\u001b[39;49;00m\u001b[04m\u001b[36m.\u001b[39;49;00m\u001b[04m\u001b[36mtree\u001b[39;49;00m \u001b[34mimport\u001b[39;49;00m DecisionTreeClassifier\n",
      "\u001b[34mfrom\u001b[39;49;00m \u001b[04m\u001b[36msklearn\u001b[39;49;00m\u001b[04m\u001b[36m.\u001b[39;49;00m\u001b[04m\u001b[36mensemble\u001b[39;49;00m \u001b[34mimport\u001b[39;49;00m RandomForestClassifier\n",
      "\u001b[34mfrom\u001b[39;49;00m \u001b[04m\u001b[36msklearn\u001b[39;49;00m\u001b[04m\u001b[36m.\u001b[39;49;00m\u001b[04m\u001b[36msvm\u001b[39;49;00m \u001b[34mimport\u001b[39;49;00m LinearSVC, SVC\n",
      "\u001b[34mfrom\u001b[39;49;00m \u001b[04m\u001b[36msklearn\u001b[39;49;00m \u001b[34mimport\u001b[39;49;00m model_selection\n",
      "\u001b[34mfrom\u001b[39;49;00m \u001b[04m\u001b[36msklearn\u001b[39;49;00m\u001b[04m\u001b[36m.\u001b[39;49;00m\u001b[04m\u001b[36mmodel_selection\u001b[39;49;00m \u001b[34mimport\u001b[39;49;00m train_test_split, StratifiedKFold, cross_val_score, cross_validate\n",
      "\u001b[34mfrom\u001b[39;49;00m \u001b[04m\u001b[36mtime\u001b[39;49;00m \u001b[34mimport\u001b[39;49;00m time\n",
      "\n",
      "\n",
      "\u001b[34mdef\u001b[39;49;00m \u001b[32msplit_data\u001b[39;49;00m(df_x, df_y, is_clean: \u001b[36mbool\u001b[39;49;00m, is_shuffle: \u001b[36mbool\u001b[39;49;00m, seed: \u001b[36mint\u001b[39;49;00m):\n",
      "    \u001b[33m\"\"\"\u001b[39;49;00m\n",
      "\u001b[33m    This function allows the split data \u001b[39;49;00m\n",
      "\u001b[33m        param df: data set\u001b[39;49;00m\n",
      "\u001b[33m        param is_clean = to clean?\u001b[39;49;00m\n",
      "\u001b[33m        param is_shuffle = shuffle split data\u001b[39;49;00m\n",
      "\u001b[33m        param seed = cross-validation generator or an iterabl k-fold 5.\u001b[39;49;00m\n",
      "\u001b[33m    \"\"\"\u001b[39;49;00m\n",
      "    \u001b[37m# Set the number of testing points\u001b[39;49;00m\n",
      "    \u001b[34mif\u001b[39;49;00m is_clean:\n",
      "        X_all = df_x.map(\u001b[34mlambda\u001b[39;49;00m x: helpers.clean_text(x))\n",
      "    \u001b[34melse\u001b[39;49;00m:\n",
      "        X_all = df_x \u001b[37m#features\u001b[39;49;00m\n",
      "\n",
      "    y_all = df_y \u001b[37m#label\u001b[39;49;00m\n",
      "    \n",
      "    \u001b[37m#Set the number of testing points\u001b[39;49;00m\n",
      "    \u001b[34mif\u001b[39;49;00m is_shuffle:\n",
      "        X_train, X_test, y_train, y_test = train_test_split(\n",
      "                                                X_all, \n",
      "                                                y_all, \n",
      "                                                test_size=\u001b[34m0.2\u001b[39;49;00m,   \u001b[37m# 80% train/cv, 20% test (5 CV)\u001b[39;49;00m\n",
      "                                                stratify=y_all,\n",
      "                                                random_state=seed,\n",
      "                                                shuffle=\u001b[34mTrue\u001b[39;49;00m)\n",
      "        \u001b[37m# Shuffle and split the dataset into the number of training and testing points above\u001b[39;49;00m\n",
      "    \u001b[34melse\u001b[39;49;00m:\n",
      "        X_train, X_test, y_train, y_test = train_test_split(X_all, y_all, \n",
      "                                                    test_size=\u001b[34m0.2\u001b[39;49;00m,   \u001b[37m# 80% train/cv, 20% test\u001b[39;49;00m\n",
      "                                                    random_state=seed,\n",
      "                                                   )\n",
      "        \n",
      "    \u001b[36mprint\u001b[39;49;00m(\u001b[33m'\u001b[39;49;00m\u001b[33mX shape:\u001b[39;49;00m\u001b[33m'\u001b[39;49;00m, X_all.shape, \u001b[33m'\u001b[39;49;00m\u001b[33my shape:\u001b[39;49;00m\u001b[33m'\u001b[39;49;00m, y_all.shape, \u001b[33m'\u001b[39;49;00m\u001b[33mX_train:\u001b[39;49;00m\u001b[33m'\u001b[39;49;00m, X_train.shape, \u001b[33m'\u001b[39;49;00m\u001b[33my_train:\u001b[39;49;00m\u001b[33m'\u001b[39;49;00m, y_train.shape,\u001b[33m'\u001b[39;49;00m\u001b[33mX_test:\u001b[39;49;00m\u001b[33m'\u001b[39;49;00m, X_test.shape, \u001b[33m'\u001b[39;49;00m\u001b[33my_test:\u001b[39;49;00m\u001b[33m'\u001b[39;49;00m, y_test.shape)\n",
      "\n",
      "    \u001b[34mreturn\u001b[39;49;00m  X_train, X_test, y_train, y_test;\n",
      "\n",
      "\n",
      "\n",
      "\u001b[34mdef\u001b[39;49;00m \u001b[32mcv_metric_scores\u001b[39;49;00m(X_train , y_train, n_splits, seed, model_type) -> pd.DataFrame:\n",
      "    \u001b[33m\"\"\"\u001b[39;49;00m\n",
      "\u001b[33m    Function that receives the data splited to train several models, returns the metrics for each one.        \u001b[39;49;00m\n",
      "\u001b[33m        :param X_train: training split\u001b[39;49;00m\n",
      "\u001b[33m        :param y_train: training target vector\u001b[39;49;00m\n",
      "\u001b[33m        :return: DataFrame of predictions\u001b[39;49;00m\n",
      "\u001b[33m    \"\"\"\u001b[39;49;00m\n",
      "    \n",
      "    cv_dfs_collection = []\n",
      "    \u001b[34mif\u001b[39;49;00m model_type==\u001b[33m'\u001b[39;49;00m\u001b[33mTfidfVectorizer\u001b[39;49;00m\u001b[33m'\u001b[39;49;00m:\n",
      "        models = [\n",
      "        (\u001b[33m'\u001b[39;49;00m\u001b[33mLogisticRegression\u001b[39;49;00m\u001b[33m'\u001b[39;49;00m, LogisticRegression(random_state=seed)),\n",
      "        (\u001b[33m'\u001b[39;49;00m\u001b[33mLinearSVC\u001b[39;49;00m\u001b[33m'\u001b[39;49;00m, LinearSVC()), \n",
      "        (\u001b[33m'\u001b[39;49;00m\u001b[33mDecisionTreeClassifier\u001b[39;49;00m\u001b[33m'\u001b[39;49;00m, DecisionTreeClassifier(random_state=seed)),\n",
      "        \u001b[37m#('KNeighborsClassifier', KNeighborsClassifier()),\u001b[39;49;00m\n",
      "        (\u001b[33m'\u001b[39;49;00m\u001b[33mGaussianNB\u001b[39;49;00m\u001b[33m'\u001b[39;49;00m, GaussianNB()), \n",
      "        (\u001b[33m'\u001b[39;49;00m\u001b[33mMultinomialNB\u001b[39;49;00m\u001b[33m'\u001b[39;49;00m, MultinomialNB()), \n",
      "        (\u001b[33m'\u001b[39;49;00m\u001b[33mMultinomialNB_prior\u001b[39;49;00m\u001b[33m'\u001b[39;49;00m, MultinomialNB(fit_prior=\u001b[34mTrue\u001b[39;49;00m, class_prior=\u001b[34mNone\u001b[39;49;00m)),\n",
      "        (\u001b[33m'\u001b[39;49;00m\u001b[33mRandomForestClassifier\u001b[39;49;00m\u001b[33m'\u001b[39;49;00m, RandomForestClassifier(n_estimators=\u001b[34m100\u001b[39;49;00m,  max_depth=\u001b[34m5\u001b[39;49;00m, random_state=seed)),\n",
      "        (\u001b[33m'\u001b[39;49;00m\u001b[33mRandomForestClassifier_200\u001b[39;49;00m\u001b[33m'\u001b[39;49;00m, RandomForestClassifier(n_estimators=\u001b[34m200\u001b[39;49;00m,  max_depth=\u001b[34m5\u001b[39;49;00m, random_state=seed))\n",
      "                \u001b[37m#('LogisticRegression_sag', LogisticRegression(solver='sag',random_state=seed)),\u001b[39;49;00m\n",
      "                \u001b[37m#('SVC' , SVC()),#,(gamma=2, C=1)),\u001b[39;49;00m\n",
      "                \u001b[37m#('SVC2' , SVC(gamma=2, C=1)),\u001b[39;49;00m\n",
      "                \u001b[37m#('XGB', XGBClassifier()),\u001b[39;49;00m\n",
      "                \u001b[37m#('KNeighborsClassifier_3', KNeighborsClassifier(n_neighbors=3, weights='uniform', algorithm='auto'))\u001b[39;49;00m\n",
      "        ]\n",
      "    \n",
      "    \u001b[34mif\u001b[39;49;00m model_type==\u001b[33m'\u001b[39;49;00m\u001b[33mCountVectorizer\u001b[39;49;00m\u001b[33m'\u001b[39;49;00m:\n",
      "        models = [\n",
      "        (\u001b[33m'\u001b[39;49;00m\u001b[33mLogisticRegression\u001b[39;49;00m\u001b[33m'\u001b[39;49;00m, LogisticRegression(random_state=seed)),\n",
      "        (\u001b[33m'\u001b[39;49;00m\u001b[33mLinearSVC\u001b[39;49;00m\u001b[33m'\u001b[39;49;00m, LinearSVC()), \n",
      "        (\u001b[33m'\u001b[39;49;00m\u001b[33mDecisionTreeClassifier\u001b[39;49;00m\u001b[33m'\u001b[39;49;00m, DecisionTreeClassifier(random_state=seed)),\n",
      "        (\u001b[33m'\u001b[39;49;00m\u001b[33mKNeighborsClassifier\u001b[39;49;00m\u001b[33m'\u001b[39;49;00m, KNeighborsClassifier()),\n",
      "        (\u001b[33m'\u001b[39;49;00m\u001b[33mGaussianNB\u001b[39;49;00m\u001b[33m'\u001b[39;49;00m, GaussianNB()), \n",
      "        (\u001b[33m'\u001b[39;49;00m\u001b[33mMultinomialNB\u001b[39;49;00m\u001b[33m'\u001b[39;49;00m, MultinomialNB()), \n",
      "        (\u001b[33m'\u001b[39;49;00m\u001b[33mMultinomialNB_prior\u001b[39;49;00m\u001b[33m'\u001b[39;49;00m, MultinomialNB(fit_prior=\u001b[34mTrue\u001b[39;49;00m, class_prior=\u001b[34mNone\u001b[39;49;00m)),\n",
      "        (\u001b[33m'\u001b[39;49;00m\u001b[33mRandomForestClassifier\u001b[39;49;00m\u001b[33m'\u001b[39;49;00m, RandomForestClassifier(n_estimators=\u001b[34m100\u001b[39;49;00m,  max_depth=\u001b[34m5\u001b[39;49;00m, random_state=seed)),\n",
      "        (\u001b[33m'\u001b[39;49;00m\u001b[33mRandomForestClassifier_200\u001b[39;49;00m\u001b[33m'\u001b[39;49;00m, RandomForestClassifier(n_estimators=\u001b[34m200\u001b[39;49;00m,  max_depth=\u001b[34m5\u001b[39;49;00m, random_state=seed))\n",
      "                \u001b[37m#('LogisticRegression_sag', LogisticRegression(solver='sag',random_state=seed)),\u001b[39;49;00m\n",
      "                \u001b[37m#('SVC' , SVC()),#,(gamma=2, C=1)),\u001b[39;49;00m\n",
      "                \u001b[37m#('SVC2' , SVC(gamma=2, C=1)),\u001b[39;49;00m\n",
      "                \u001b[37m#('XGB', XGBClassifier()),\u001b[39;49;00m\n",
      "                \u001b[37m#('KNeighborsClassifier_3', KNeighborsClassifier(n_neighbors=3, weights='uniform', algorithm='auto'))\u001b[39;49;00m\n",
      "        ]\n",
      "    results_collection = []\n",
      "    model_desc_collection = []\n",
      "    scoring = [\u001b[33m'\u001b[39;49;00m\u001b[33maccuracy\u001b[39;49;00m\u001b[33m'\u001b[39;49;00m, \u001b[33m'\u001b[39;49;00m\u001b[33mprecision_macro\u001b[39;49;00m\u001b[33m'\u001b[39;49;00m, \u001b[33m'\u001b[39;49;00m\u001b[33mrecall_macro\u001b[39;49;00m\u001b[33m'\u001b[39;49;00m, \u001b[33m'\u001b[39;49;00m\u001b[33mf1_macro\u001b[39;49;00m\u001b[33m'\u001b[39;49;00m, \u001b[33m'\u001b[39;49;00m\u001b[33mprecision_weighted\u001b[39;49;00m\u001b[33m'\u001b[39;49;00m, \u001b[33m'\u001b[39;49;00m\u001b[33mrecall_weighted\u001b[39;49;00m\u001b[33m'\u001b[39;49;00m, \u001b[33m'\u001b[39;49;00m\u001b[33mf1_weighted\u001b[39;49;00m\u001b[33m'\u001b[39;49;00m]\n",
      "    \n",
      "    \u001b[34mfor\u001b[39;49;00m model_desc, model \u001b[35min\u001b[39;49;00m models:\n",
      "        \u001b[37m# Start timer\u001b[39;49;00m\n",
      "        start_model_time = time();\n",
      "        \n",
      "        skf = StratifiedKFold(n_splits=n_splits, shuffle=\u001b[34mTrue\u001b[39;49;00m, random_state=seed)\n",
      "        cv_results = model_selection.cross_validate(model, X_train, y_train, cv=skf, scoring=scoring)\n",
      "        \n",
      "        \u001b[36mprint\u001b[39;49;00m(model_desc)\n",
      "        \u001b[36mprint\u001b[39;49;00m(model)\n",
      "        \u001b[37m# Stop timer\u001b[39;49;00m\n",
      "        end_model_time =  \u001b[36mround\u001b[39;49;00m(time()-start_model_time, \u001b[34m1\u001b[39;49;00m);\n",
      "        \u001b[36mprint\u001b[39;49;00m(end_model_time)\n",
      "        \n",
      "        results_collection.append(cv_results)\n",
      "        model_desc_collection.append(model_desc)\n",
      "        \n",
      "        cv_df = pd.DataFrame(cv_results)\n",
      "        cv_df[\u001b[33m'\u001b[39;49;00m\u001b[33mmodel_desc\u001b[39;49;00m\u001b[33m'\u001b[39;49;00m] = model_desc\n",
      "        cv_df[\u001b[33m'\u001b[39;49;00m\u001b[33mmodel_duration\u001b[39;49;00m\u001b[33m'\u001b[39;49;00m] = end_model_time\n",
      "        \n",
      "        cv_dfs_collection.append(cv_df)\n",
      "        \n",
      "        df_cv_metric_scores = pd.concat(cv_dfs_collection, ignore_index=\u001b[34mTrue\u001b[39;49;00m)\n",
      "    \n",
      "    \u001b[34mreturn\u001b[39;49;00m df_cv_metric_scores\n",
      "\n",
      "\u001b[34mdef\u001b[39;49;00m \u001b[32mtokenize_TfidfVectorizer\u001b[39;49;00m(X_train, X_test, stop_words, is_bigram:\u001b[34mTrue\u001b[39;49;00m):\n",
      "    \n",
      "    \u001b[34mif\u001b[39;49;00m is_bigram:\n",
      "        word_vectorizer = TfidfVectorizer(\n",
      "                            sublinear_tf=\u001b[34mTrue\u001b[39;49;00m, \u001b[37m# set to true to scale the term frequency in logarithmic scale.\u001b[39;49;00m\n",
      "                            min_df=\u001b[34m5\u001b[39;49;00m,\n",
      "                            stop_words=stop_words,\n",
      "                            \u001b[37m#strip_accents='unicode',\u001b[39;49;00m\n",
      "                            \u001b[37m#token_pattern=r'\\w{1,}',\u001b[39;49;00m\n",
      "                            \u001b[37m#analyzer='word',\u001b[39;49;00m\n",
      "                            ngram_range=(\u001b[34m1\u001b[39;49;00m, \u001b[34m2\u001b[39;49;00m));\n",
      "    \n",
      "    \u001b[34melse\u001b[39;49;00m: \u001b[37m#only-gram\u001b[39;49;00m\n",
      "        \n",
      "        word_vectorizer = TfidfVectorizer(\n",
      "                            sublinear_tf=\u001b[34mTrue\u001b[39;49;00m, \u001b[37m# set to true to scale the term frequency in logarithmic scale.\u001b[39;49;00m\n",
      "                            min_df=\u001b[34m5\u001b[39;49;00m,\n",
      "                            stop_words=stop_words,\n",
      "                            \u001b[37m#strip_accents='unicode',\u001b[39;49;00m\n",
      "                            \u001b[37m#token_pattern=r'\\w{1,}',\u001b[39;49;00m\n",
      "                            \u001b[37m#analyzer='word',\u001b[39;49;00m\n",
      "                            ngram_range=(\u001b[34m1\u001b[39;49;00m, \u001b[34m1\u001b[39;49;00m));\n",
      "\n",
      "    X_train = word_vectorizer.fit_transform(X_train).toarray()\n",
      "    X_test = word_vectorizer.transform(X_test)\n",
      "\n",
      "    \u001b[34mreturn\u001b[39;49;00m {\n",
      "        \u001b[33m'\u001b[39;49;00m\u001b[33mX_train\u001b[39;49;00m\u001b[33m'\u001b[39;49;00m: X_train,\n",
      "        \u001b[33m'\u001b[39;49;00m\u001b[33mX_test\u001b[39;49;00m\u001b[33m'\u001b[39;49;00m: X_test,\n",
      "        \u001b[33m'\u001b[39;49;00m\u001b[33mword_vectorizer\u001b[39;49;00m\u001b[33m'\u001b[39;49;00m: word_vectorizer\n",
      "    }\n",
      "\n",
      "\n",
      "\u001b[34mdef\u001b[39;49;00m \u001b[32mtokenize_CountVectorizer\u001b[39;49;00m(X_train, X_test, stop_words, is_bigram:\u001b[34mTrue\u001b[39;49;00m):\n",
      "    \n",
      "    \u001b[34mif\u001b[39;49;00m is_bigram:\n",
      "        word_vectorizer = CountVectorizer(\n",
      "                            min_df=\u001b[34m5\u001b[39;49;00m,\n",
      "                            stop_words=stop_words,\n",
      "                            \u001b[37m#strip_accents='unicode',\u001b[39;49;00m\n",
      "                            \u001b[37m#token_pattern=r'\\w{1,}',\u001b[39;49;00m\n",
      "                            \u001b[37m#analyzer='word',\u001b[39;49;00m\n",
      "                            ngram_range=(\u001b[34m1\u001b[39;49;00m, \u001b[34m2\u001b[39;49;00m));\n",
      "    \n",
      "    \u001b[34melse\u001b[39;49;00m: \u001b[37m#only-gram\u001b[39;49;00m\n",
      "        \n",
      "        word_vectorizer = CountVectorizer(\n",
      "                            min_df=\u001b[34m5\u001b[39;49;00m,\n",
      "                            stop_words=stop_words,\n",
      "                            \u001b[37m#strip_accents='unicode',\u001b[39;49;00m\n",
      "                            \u001b[37m#token_pattern=r'\\w{1,}',\u001b[39;49;00m\n",
      "                            \u001b[37m#analyzer='word',\u001b[39;49;00m\n",
      "                            ngram_range=(\u001b[34m1\u001b[39;49;00m, \u001b[34m1\u001b[39;49;00m));\n",
      "        \n",
      "    X_train_counts = word_vectorizer.fit_transform(X_train)\n",
      "    tfidf_transformer = TfidfTransformer()\n",
      "    X_train = tfidf_transformer.fit_transform(X_train_counts)\n",
      "    X_test = word_vectorizer.fit_transform(X_test).toarray()\n",
      "\n",
      "    \u001b[34mreturn\u001b[39;49;00m {\n",
      "        \u001b[33m'\u001b[39;49;00m\u001b[33mX_train\u001b[39;49;00m\u001b[33m'\u001b[39;49;00m: X_train,\n",
      "        \u001b[33m'\u001b[39;49;00m\u001b[33mX_test\u001b[39;49;00m\u001b[33m'\u001b[39;49;00m: X_test,\n",
      "        \u001b[33m'\u001b[39;49;00m\u001b[33mword_vectorizer\u001b[39;49;00m\u001b[33m'\u001b[39;49;00m: word_vectorizer\n",
      "    }\n",
      "\n",
      "\u001b[37m#https://www.codementor.io/@rohitagrawalofficialmail/analyzing-text-classification-techniques-on-youtube-data-x5sa1cdvw\u001b[39;49;00m\n",
      "\u001b[34mdef\u001b[39;49;00m \u001b[32mfeatures_correlated\u001b[39;49;00m (word_vectorizer, _pre_features, df_products, df_products_id, product_to_id, n):\n",
      "    \u001b[33m\"\"\"\u001b[39;49;00m\n",
      "\u001b[33m        This function allows check if the features extracted using TF-IDF vectorization made any sense\u001b[39;49;00m\n",
      "\u001b[33m        find the most correlated unigrams and bigrams for each product\u001b[39;49;00m\n",
      "\u001b[33m            param word_vectorizer: word_vectorizer.fit_transform(X_test).toarray()\u001b[39;49;00m\n",
      "\u001b[33m            param n = features\u001b[39;49;00m\n",
      "\u001b[33m    \"\"\"\u001b[39;49;00m\n",
      "    \u001b[34mfor\u001b[39;49;00m product_id, product \u001b[35min\u001b[39;49;00m \u001b[36msorted\u001b[39;49;00m(product_to_id.items()):\n",
      "        features_chi2 = chi2(_pre_features, df_products_id == product_id)\n",
      "        indices = np.argsort(features_chi2[\u001b[34m0\u001b[39;49;00m])\n",
      "        feature_names = np.array(word_vectorizer.get_feature_names())[indices]\n",
      "        unigrams = [v \u001b[34mfor\u001b[39;49;00m v \u001b[35min\u001b[39;49;00m feature_names \u001b[34mif\u001b[39;49;00m \u001b[36mlen\u001b[39;49;00m(v.split(\u001b[33m'\u001b[39;49;00m\u001b[33m \u001b[39;49;00m\u001b[33m'\u001b[39;49;00m)) == \u001b[34m1\u001b[39;49;00m]\n",
      "        bigrams = [v \u001b[34mfor\u001b[39;49;00m v \u001b[35min\u001b[39;49;00m feature_names \u001b[34mif\u001b[39;49;00m \u001b[36mlen\u001b[39;49;00m(v.split(\u001b[33m'\u001b[39;49;00m\u001b[33m \u001b[39;49;00m\u001b[33m'\u001b[39;49;00m)) == \u001b[34m2\u001b[39;49;00m]\n",
      "        trigrams = [v \u001b[34mfor\u001b[39;49;00m v \u001b[35min\u001b[39;49;00m feature_names \u001b[34mif\u001b[39;49;00m \u001b[36mlen\u001b[39;49;00m(v.split(\u001b[33m'\u001b[39;49;00m\u001b[33m \u001b[39;49;00m\u001b[33m'\u001b[39;49;00m)) == \u001b[34m3\u001b[39;49;00m]\n",
      "\n",
      "        \u001b[36mprint\u001b[39;49;00m(\u001b[33m\"\u001b[39;49;00m\u001b[33m# \u001b[39;49;00m\u001b[33m'\u001b[39;49;00m\u001b[33m{}\u001b[39;49;00m\u001b[33m'\u001b[39;49;00m\u001b[33m:\u001b[39;49;00m\u001b[33m\"\u001b[39;49;00m.format(product))\n",
      "        \u001b[36mprint\u001b[39;49;00m(\u001b[33m\"\u001b[39;49;00m\u001b[33mMost correlated unigrams:\u001b[39;49;00m\u001b[33m\"\u001b[39;49;00m)\n",
      "        \u001b[36mprint\u001b[39;49;00m(\u001b[33m'\u001b[39;49;00m\u001b[33m-\u001b[39;49;00m\u001b[33m'\u001b[39;49;00m *\u001b[34m30\u001b[39;49;00m)\n",
      "        \n",
      "        \u001b[36mprint\u001b[39;49;00m(\u001b[33m'\u001b[39;49;00m\u001b[33m. \u001b[39;49;00m\u001b[33m{}\u001b[39;49;00m\u001b[33m'\u001b[39;49;00m.format(\u001b[33m'\u001b[39;49;00m\u001b[33m\\n\u001b[39;49;00m\u001b[33m. \u001b[39;49;00m\u001b[33m'\u001b[39;49;00m.join(unigrams[-n:])))\n",
      "        \u001b[36mprint\u001b[39;49;00m(\u001b[33m\"\u001b[39;49;00m\u001b[33mMost correlated bigrams:\u001b[39;49;00m\u001b[33m\"\u001b[39;49;00m)\n",
      "        \u001b[36mprint\u001b[39;49;00m(\u001b[33m'\u001b[39;49;00m\u001b[33m-\u001b[39;49;00m\u001b[33m'\u001b[39;49;00m *\u001b[34m30\u001b[39;49;00m)\n",
      "        \n",
      "        \u001b[36mprint\u001b[39;49;00m(\u001b[33m'\u001b[39;49;00m\u001b[33m. \u001b[39;49;00m\u001b[33m{}\u001b[39;49;00m\u001b[33m'\u001b[39;49;00m.format(\u001b[33m'\u001b[39;49;00m\u001b[33m\\n\u001b[39;49;00m\u001b[33m. \u001b[39;49;00m\u001b[33m'\u001b[39;49;00m.join(bigrams[-n:])))\n",
      "        \u001b[36mprint\u001b[39;49;00m(\u001b[33m\"\u001b[39;49;00m\u001b[33mMost correlated trigrams:\u001b[39;49;00m\u001b[33m\"\u001b[39;49;00m)\n",
      "        \u001b[36mprint\u001b[39;49;00m(\u001b[33m'\u001b[39;49;00m\u001b[33m-\u001b[39;49;00m\u001b[33m'\u001b[39;49;00m *\u001b[34m30\u001b[39;49;00m)\n",
      "        \n",
      "        \u001b[36mprint\u001b[39;49;00m(\u001b[33m'\u001b[39;49;00m\u001b[33m. \u001b[39;49;00m\u001b[33m{}\u001b[39;49;00m\u001b[33m'\u001b[39;49;00m.format(\u001b[33m'\u001b[39;49;00m\u001b[33m\\n\u001b[39;49;00m\u001b[33m. \u001b[39;49;00m\u001b[33m'\u001b[39;49;00m.join(trigrams[-n:])))\n",
      "        \u001b[36mprint\u001b[39;49;00m(\u001b[33m\"\u001b[39;49;00m\u001b[33m\\n\u001b[39;49;00m\u001b[33m\"\u001b[39;49;00m)\n"
     ]
    }
   ],
   "source": [
    "#directory \n",
    "!pygmentize source_sklearn/train.py"
   ]
  },
  {
   "cell_type": "code",
   "execution_count": 25,
   "metadata": {},
   "outputs": [],
   "source": [
    "#import nltk\n",
    "#from nltk.corpus import stopwords\n",
    "#from nltk.stem import SnowballStemmer\n",
    "\n",
    "#import re\n",
    "#import string\n",
    "#from io import StringIO\n",
    "\n",
    "#complaint_text = df_complaints['complaint_text']\n",
    "#complaint_text\n",
    "#complaint_text = complaint_text.map(lambda complaint_text:  helpers.clean_text(complaint_text))"
   ]
  },
  {
   "cell_type": "markdown",
   "metadata": {},
   "source": [
    "To train supervised classifiers, we first transformed the `complaint_text` into a vector of numbers so that the algorithms to be used are able to make prediction. In this case, the term Frequency - Reverse Document Frequency (TFIDF) like bag of words to will be used to assess the importance of a word for a complaint in a complaints collection. Como o texto é extenso, conidera-se também a remoção das stop words.\n",
    "\n",
    "After removing the punctuation and remove stop words, the importance of a word is determined in terms of its frequency."
   ]
  },
  {
   "cell_type": "markdown",
   "metadata": {},
   "source": [
    "**Split test and train data**\n",
    "\n",
    "It should return the follow tuples:\n",
    "\n",
    "* `X_train` `y_train` - selected training features and their corresponding product labels without text clean \n",
    "\n",
    "* `X_test` `y_test)` - selected training features and their corresponding produt labels without text clean \n",
    "\n",
    "* `X_test_clean` `y_test_clean` - selected training features and their corresponding produt labels with text clean \n",
    "\n"
   ]
  },
  {
   "cell_type": "code",
   "execution_count": 36,
   "metadata": {},
   "outputs": [
    {
     "data": {
      "text/plain": [
       "26         Money transfer, virtual currency, or money ser...\n",
       "217                              Credit card or prepaid card\n",
       "425                                                     Loan\n",
       "448                              Checking or savings account\n",
       "467                                                     Loan\n",
       "                                 ...                        \n",
       "1826949                          Credit card or prepaid card\n",
       "1826979                              Bank account or service\n",
       "1827014                                      Debt collection\n",
       "1827019                                      Debt collection\n",
       "1827272    Money transfer, virtual currency, or money ser...\n",
       "Name: product, Length: 31503, dtype: object"
      ]
     },
     "execution_count": 36,
     "metadata": {},
     "output_type": "execute_result"
    }
   ],
   "source": [
    "products"
   ]
  },
  {
   "cell_type": "code",
   "execution_count": 26,
   "metadata": {},
   "outputs": [
    {
     "name": "stdout",
     "output_type": "stream",
     "text": [
      "X shape: (31503,) y shape: (31503,) X_train: (25202,) y_train: (25202,) X_test: (6301,) y_test: (6301,)\n",
      "X shape: (31503,) y shape: (31503,) X_train: (25202,) y_train: (25202,) X_test: (6301,) y_test: (6301,)\n"
     ]
    }
   ],
   "source": [
    "is_shuffle=True\n",
    "\n",
    "# split data with clean text\n",
    "is_clean=False\n",
    "X_train, X_test, y_train, y_test = train.split_data(pre_features, products, is_clean, is_shuffle, seed)\n",
    "\n",
    "# split data without clean text\n",
    "is_clean=True\n",
    "X_train_clean, X_test_clean, y_train, y_test = train.split_data(pre_features, products, is_clean, is_shuffle, seed)"
   ]
  },
  {
   "cell_type": "code",
   "execution_count": 27,
   "metadata": {},
   "outputs": [],
   "source": [
    "# 1. Pickling our subsetted dataframe\n",
    "helpers.save_pickle(dest_folder, X_train, 'X_train');\n",
    "helpers.save_pickle(dest_folder, y_train, 'Y_train');\n",
    "helpers.save_pickle(dest_folder, X_test, 'X_test');\n",
    "helpers.save_pickle(dest_folder, y_test, 'y_test');\n",
    "\n",
    "helpers.save_pickle(dest_folder, X_test_clean, 'X_test_clean');\n",
    "helpers.save_pickle(dest_folder, X_train_clean, 'X_train_clean');"
   ]
  },
  {
   "cell_type": "code",
   "execution_count": 34,
   "metadata": {},
   "outputs": [
    {
     "data": {
      "text/plain": [
       "1126779    theses are hard inquiries on my report that ne...\n",
       "1446430    i checked my credit report and i found out tha...\n",
       "1761102    on i was charged a 95 00 annual fee for my cit...\n",
       "1490891    equifax refuses to give me a free credit repor...\n",
       "226064     i mailed a certified dispute letter to transun...\n",
       "                                 ...                        \n",
       "732934     i sent some money to my mother on through the ...\n",
       "1794616    in 2018 i bought a phone through and paid 3600...\n",
       "1574504    i was told i could have my loans cut by 50 all...\n",
       "461845     i am enrolled with and have money saved to pay...\n",
       "1532648    received faux notice stating your account is o...\n",
       "Name: complaint_text, Length: 25202, dtype: object"
      ]
     },
     "execution_count": 34,
     "metadata": {},
     "output_type": "execute_result"
    }
   ],
   "source": [
    "X_train\n",
    "X_train_clean"
   ]
  },
  {
   "cell_type": "markdown",
   "metadata": {},
   "source": [
    "**Create a bag of words using TF-IDF for the complaints**\n",
    "\n",
    "To create the Bag of Words, I chose to test with **CountVectorizer** and **TfidfVectorizer**.\n",
    "\n",
    "**CountVectorizer**\n",
    "* `: 1-gram only`\n",
    "* `: 1-gram only and text clean`\n",
    "* `: bigram`\n",
    "* `: bigram and text clean`\n",
    "\n",
    "**TfidfVectorizer**\n",
    "* `: 1-gram only`\n",
    "* `: 1-gram only and text clean`\n",
    "* `: bigram`\n",
    "* `: bigram and text clean`\n",
    "\n",
    "Based on the analysis performed by [27] now let us see if the features are correctly extracted from the text data by checking the most important features for each class. Understand the features that are most correlated with each of the products:\n",
    "\n"
   ]
  },
  {
   "cell_type": "code",
   "execution_count": 29,
   "metadata": {},
   "outputs": [
    {
     "name": "stdout",
     "output_type": "stream",
     "text": [
      "Each of the 31503 complaints is represented by 10765 features (representing CountVectorizer score of unigrams)\n",
      "------------------------------\n",
      "Each of the 31503 complaints is represented by 10765 features (representing TfidfVectorizer score of unigrams)\n",
      "------------------------------\n",
      "Each of the 31503 complaints is represented by 10765 features (representing CountVectorizer score of unigrams and clean text)\n",
      "------------------------------\n",
      "Each of the 31503 complaints is represented by 10765 features (representing TfidfVectorizer score of unigrams and clean text)\n",
      "------------------------------\n"
     ]
    }
   ],
   "source": [
    "#1-gram only\n",
    "is_bigram=False\n",
    "stop_words='english'\n",
    "\n",
    "tokens = train.tokenize_CountVectorizer(X_train, X_test, stop_words, is_bigram)\n",
    "_X_train = tokens['X_train']\n",
    "_X_test = tokens['X_test']\n",
    "_word_vectorizer = tokens['word_vectorizer']\n",
    "helpers.save_pickle(dest_folder, _X_train, 'train_tokenize_CountVectorizer_1');\n",
    "helpers.save_pickle(dest_folder, _X_test, 'test_tokenize_CountVectorizer_1');\n",
    "helpers.save_pickle(dest_folder, _word_vectorizer, 'word_vectorizer_tokenize_CountVectorizer_1');\n",
    "# Transform each complaint into a vector\n",
    "_pre_features = _word_vectorizer.fit_transform(pre_features).toarray()\n",
    "print(\"Each of the %d complaints is represented by %d features (representing CountVectorizer score of unigrams)\" %(_pre_features.shape))\n",
    "print('-' *30)\n",
    "#train.features_correlated(_word_vectorizer,_pre_features, df_products, df_products_id, product_to_id, 5)\n",
    "#print('-' *30)\n",
    "#print('-' *30)\n",
    "\n",
    "tokens = train.tokenize_TfidfVectorizer(X_train, X_test, stop_words, is_bigram)\n",
    "_X_train = tokens['X_train']\n",
    "_X_test = tokens['X_test']\n",
    "_word_vectorizer = tokens['word_vectorizer']\n",
    "helpers.save_pickle(dest_folder, _X_train, 'train_tokenize_TfidfVectorizer_1');\n",
    "helpers.save_pickle(dest_folder, _X_test, 'test_tokenize_TfidfVectorizer_1');\n",
    "helpers.save_pickle(dest_folder, _word_vectorizer, 'word_vectorizer_tokenize_TfidfVectorizer_1');\n",
    "# Transform each complaint into a vector\n",
    "_pre_features = _word_vectorizer.fit_transform(pre_features).toarray()\n",
    "print(\"Each of the %d complaints is represented by %d features (representing TfidfVectorizer score of unigrams)\" %(_pre_features.shape))\n",
    "print('-' *30)\n",
    "#train.features_correlated(_word_vectorizer,_pre_features, df_products, df_products_id, product_to_id, 5)\n",
    "#print('-' *30)\n",
    "#print('-' *30)\n",
    "\n",
    "\n",
    "#1-gram only and text clean\n",
    "# split data\n",
    "is_bigram=False\n",
    "stop_words='english'\n",
    "\n",
    "tokens = train.tokenize_CountVectorizer(X_train_clean, X_test_clean, stop_words, is_bigram)\n",
    "_X_train = tokens['X_train']\n",
    "_X_test = tokens['X_test']\n",
    "_word_vectorizer = tokens['word_vectorizer']\n",
    "helpers.save_pickle(dest_folder, _X_train, 'train_tokenize_CountVectorizer_1_clean');\n",
    "helpers.save_pickle(dest_folder, _X_test, 'test_tokenize_CountVectorizer_1_clean');\n",
    "helpers.save_pickle(dest_folder, _word_vectorizer, 'word_vectorizer_tokenize_CountVectorizer_1_clean');\n",
    "\n",
    "# Transform each complaint into a vector\n",
    "_pre_features = _word_vectorizer.fit_transform(pre_features).toarray()\n",
    "print(\"Each of the %d complaints is represented by %d features (representing CountVectorizer score of unigrams and clean text)\" %(_pre_features.shape))\n",
    "print('-' *30)\n",
    "#train.features_correlated(_word_vectorizer,_pre_features, df_products, df_products_id, product_to_id, 5)\n",
    "#print('-' *30)\n",
    "#print('-' *30)\n",
    "\n",
    "tokens = train.tokenize_TfidfVectorizer(X_train_clean, X_test_clean, stop_words, is_bigram)\n",
    "_X_train = tokens['X_train']\n",
    "_X_test = tokens['X_test']\n",
    "_word_vectorizer = tokens['word_vectorizer']\n",
    "helpers.save_pickle(dest_folder, _X_train, 'train_tokenize_TfidfVectorizer_1_clean');\n",
    "helpers.save_pickle(dest_folder, _X_test, 'test_tokenize_TfidfVectorizer_1_clean');\n",
    "helpers.save_pickle(dest_folder, _word_vectorizer, 'word_vectorizer_tokenize_TfidfVectorizer_1_clean');\n",
    "\n",
    "# Transform each complaint into a vector\n",
    "_pre_features = _word_vectorizer.fit_transform(pre_features).toarray()\n",
    "print(\"Each of the %d complaints is represented by %d features (representing TfidfVectorizer score of unigrams and clean text)\" %(_pre_features.shape))\n",
    "print('-' *30)\n",
    "#train.features_correlated(_word_vectorizer,_pre_features, df_products, df_products_id, product_to_id, 5)\n",
    "#print('-' *30)\n",
    "#print('-' *30)\n",
    "\n"
   ]
  },
  {
   "cell_type": "code",
   "execution_count": 30,
   "metadata": {},
   "outputs": [
    {
     "name": "stdout",
     "output_type": "stream",
     "text": [
      "Each of the 31503 complaints is represented by 84278 features (representing CountVectorizer score of bigrams)\n",
      "------------------------------\n",
      "Each of the 31503 complaints is represented by 84278 features (representing TfidfVectorizer score of bigrams)\n",
      "------------------------------\n",
      "Each of the 31503 complaints is represented by 84278 features (representing CountVectorizer score of bigrams and clean text)\n",
      "------------------------------\n",
      "Each of the 31503 complaints is represented by 84278 features (representing TfidfVectorizer score of bigrams and clean text)\n",
      "# 'Bank account or service':\n",
      "Most correlated unigrams:\n",
      "------------------------------\n",
      ". branch\n",
      ". hsa\n",
      ". citigold\n",
      ". overdraft\n",
      ". scottrade\n",
      "Most correlated bigrams:\n",
      "------------------------------\n",
      ". checking account\n",
      ". xxxx overdraft\n",
      ". overdraft fees\n",
      ". citigold checking\n",
      ". scottrade bank\n",
      "Most correlated trigrams:\n",
      "------------------------------\n",
      ". \n",
      "\n",
      "\n",
      "# 'Checking or savings account':\n",
      "Most correlated unigrams:\n",
      "------------------------------\n",
      ". branch\n",
      ". atm\n",
      ". checking\n",
      ". overdraft\n",
      ". bonus\n",
      "Most correlated bigrams:\n",
      "------------------------------\n",
      ". checking savings\n",
      ". overdraft fee\n",
      ". overdraft fees\n",
      ". checking account\n",
      ". 00 bonus\n",
      "Most correlated trigrams:\n",
      "------------------------------\n",
      ". \n",
      "\n",
      "\n",
      "# 'Credit card or prepaid card':\n",
      "Most correlated unigrams:\n",
      "------------------------------\n",
      ". citi\n",
      ". express\n",
      ". amex\n",
      ". rewards\n",
      ". card\n",
      "Most correlated bigrams:\n",
      "------------------------------\n",
      ". credit limit\n",
      ". minimum payment\n",
      ". annual fee\n",
      ". american express\n",
      ". credit card\n",
      "Most correlated trigrams:\n",
      "------------------------------\n",
      ". \n",
      "\n",
      "\n",
      "# 'Credit reporting, repair, or other':\n",
      "Most correlated unigrams:\n",
      "------------------------------\n",
      ". experian\n",
      ". credit\n",
      ". reporting\n",
      ". equifax\n",
      ". report\n",
      "Most correlated bigrams:\n",
      "------------------------------\n",
      ". credit reporting\n",
      ". credit file\n",
      ". credit bureaus\n",
      ". identity theft\n",
      ". credit report\n",
      "Most correlated trigrams:\n",
      "------------------------------\n",
      ". \n",
      "\n",
      "\n",
      "# 'Debt collection':\n",
      "Most correlated unigrams:\n",
      "------------------------------\n",
      ". collector\n",
      ". owe\n",
      ". collect\n",
      ". collection\n",
      ". debt\n",
      "Most correlated bigrams:\n",
      "------------------------------\n",
      ". trying collect\n",
      ". debt collector\n",
      ". debt collection\n",
      ". collect debt\n",
      ". collection agency\n",
      "Most correlated trigrams:\n",
      "------------------------------\n",
      ". \n",
      "\n",
      "\n",
      "# 'Loan':\n",
      "Most correlated unigrams:\n",
      "------------------------------\n",
      ". student\n",
      ". repayment\n",
      ". loans\n",
      ". loan\n",
      ". navient\n",
      "Most correlated bigrams:\n",
      "------------------------------\n",
      ". based repayment\n",
      ". loan forgiveness\n",
      ". student loan\n",
      ". student loans\n",
      ". income based\n",
      "Most correlated trigrams:\n",
      "------------------------------\n",
      ". \n",
      "\n",
      "\n",
      "# 'Money transfer, virtual currency, or money service':\n",
      "Most correlated unigrams:\n",
      "------------------------------\n",
      ". credit\n",
      ". transfer\n",
      ". coinbase\n",
      ". money\n",
      ". paypal\n",
      "Most correlated bigrams:\n",
      "------------------------------\n",
      ". wire transfer\n",
      ". cash app\n",
      ". western union\n",
      ". bank account\n",
      ". credit report\n",
      "Most correlated trigrams:\n",
      "------------------------------\n",
      ". \n",
      "\n",
      "\n",
      "# 'Mortgage':\n",
      "Most correlated unigrams:\n",
      "------------------------------\n",
      ". ocwen\n",
      ". foreclosure\n",
      ". escrow\n",
      ". modification\n",
      ". mortgage\n",
      "Most correlated bigrams:\n",
      "------------------------------\n",
      ". short sale\n",
      ". escrow account\n",
      ". mortgage payment\n",
      ". mortgage company\n",
      ". loan modification\n",
      "Most correlated trigrams:\n",
      "------------------------------\n",
      ". \n",
      "\n",
      "\n",
      "# 'Other financial service':\n",
      "Most correlated unigrams:\n",
      "------------------------------\n",
      ". global\n",
      ". fedloanhelp\n",
      ". consolidate\n",
      ". certegy\n",
      ". lexington\n",
      "Most correlated bigrams:\n",
      "------------------------------\n",
      ". money order\n",
      ". credit repair\n",
      ". client solutions\n",
      ". global client\n",
      ". lexington law\n",
      "Most correlated trigrams:\n",
      "------------------------------\n",
      ". \n",
      "\n",
      "\n",
      "------------------------------\n",
      "------------------------------\n"
     ]
    }
   ],
   "source": [
    "# bigram\n",
    "is_bigram=True\n",
    "stop_words='english'\n",
    "\n",
    "tokens = train.tokenize_CountVectorizer(X_train, X_test, stop_words, is_bigram)\n",
    "_X_train = tokens['X_train']\n",
    "_X_test = tokens['X_test']\n",
    "_word_vectorizer = tokens['word_vectorizer']\n",
    "helpers.save_pickle(dest_folder, _X_train, 'train_tokenize_CountVectorizer_2');\n",
    "helpers.save_pickle(dest_folder, _X_test, 'test_tokenize_CountVectorizer_2');\n",
    "helpers.save_pickle(dest_folder, _word_vectorizer, 'word_vectorizer_tokenize_CountVectorizer_2');\n",
    "\n",
    "# Transform each complaint into a vector\n",
    "_pre_features = _word_vectorizer.fit_transform(pre_features).toarray()\n",
    "print(\"Each of the %d complaints is represented by %d features (representing CountVectorizer score of bigrams)\" %(_pre_features.shape))\n",
    "print('-' *30)\n",
    "#train.features_correlated(_word_vectorizer,_pre_features, df_products, df_products_id, product_to_id, 5)\n",
    "#print('-' *30)\n",
    "#print('-' *30)\n",
    "\n",
    "tokens = train.tokenize_TfidfVectorizer(X_train, X_test, stop_words, is_bigram)\n",
    "_X_train = tokens['X_train']\n",
    "_X_test = tokens['X_test']\n",
    "_word_vectorizer = tokens['word_vectorizer']\n",
    "helpers.save_pickle(dest_folder, _X_train, 'train_tokenize_TfidfVectorizer_2');\n",
    "helpers.save_pickle(dest_folder, _X_test, 'test_tokenize_TfidfVectorizer_2');\n",
    "helpers.save_pickle(dest_folder, _word_vectorizer, 'word_vectorizer_tokenize_TfidfVectorizer_2');\n",
    "# Transform each complaint into a vector\n",
    "_pre_features = _word_vectorizer.fit_transform(pre_features).toarray()\n",
    "print(\"Each of the %d complaints is represented by %d features (representing TfidfVectorizer score of bigrams)\" %(_pre_features.shape))\n",
    "print('-' *30)\n",
    "#train.features_correlated(_word_vectorizer,_pre_features, df_products, df_products_id, product_to_id, 5)\n",
    "#print('-' *30)\n",
    "#print('-' *30)\n",
    "\n",
    "\n",
    "### bigram and text clean\n",
    "is_bigram=True\n",
    "stop_words='english'\n",
    "\n",
    "tokens = train.tokenize_CountVectorizer(X_train_clean, X_test_clean, stop_words, is_bigram)\n",
    "_X_train = tokens['X_train']\n",
    "_X_test = tokens['X_test']\n",
    "_word_vectorizer = tokens['word_vectorizer']\n",
    "helpers.save_pickle(dest_folder, _X_train, 'train_tokenize_CountVectorizer_2_clean');\n",
    "helpers.save_pickle(dest_folder, _X_test, 'test_tokenize_CountVectorizer_2_clean');\n",
    "helpers.save_pickle(dest_folder, _word_vectorizer, 'word_vectorizer_tokenize_CountVectorizer_2_clean');\n",
    "# Transform each complaint into a vector\n",
    "_pre_features = _word_vectorizer.fit_transform(pre_features).toarray()\n",
    "print(\"Each of the %d complaints is represented by %d features (representing CountVectorizer score of bigrams and clean text)\" %(_pre_features.shape))\n",
    "print('-' *30)\n",
    "#train.features_correlated(_word_vectorizer,_pre_features, df_products, df_products_id, product_to_id, 5)\n",
    "#print('-' *30)\n",
    "#print('-' *30)\n",
    "\n",
    "tokens = train.tokenize_TfidfVectorizer(X_train_clean, X_test_clean, stop_words, is_bigram)\n",
    "_X_train = tokens['X_train']\n",
    "_X_test = tokens['X_test']\n",
    "_word_vectorizer = tokens['word_vectorizer']\n",
    "helpers.save_pickle(dest_folder, _X_train, 'train_tokenize_TfidfVectorizer_2_clean');\n",
    "helpers.save_pickle(dest_folder, _X_test, 'test_tokenize_TfidfVectorizer_2_clean');\n",
    "helpers.save_pickle(dest_folder, _word_vectorizer, 'word_vectorizer_tokenize_TfidfVectorizer_2_clean');\n",
    "# Transform each complaint into a vector\n",
    "_pre_features = _word_vectorizer.fit_transform(pre_features).toarray()\n",
    "print(\"Each of the %d complaints is represented by %d features (representing TfidfVectorizer score of bigrams and clean text)\" %(_pre_features.shape))\n",
    "train.features_correlated(_word_vectorizer,_pre_features, df_products, df_products_id, product_to_id, 5)\n",
    "print('-' *30)\n",
    "print('-' *30)"
   ]
  },
  {
   "cell_type": "code",
   "execution_count": 31,
   "metadata": {},
   "outputs": [
    {
     "name": "stdout",
     "output_type": "stream",
     "text": [
      "dict_items([(0, 'Bank account or service'), (1, 'Checking or savings account'), (2, 'Credit card or prepaid card'), (3, 'Credit reporting, repair, or other'), (4, 'Debt collection'), (5, 'Loan'), (6, 'Money transfer, virtual currency, or money service'), (7, 'Mortgage'), (8, 'Other financial service')])\n"
     ]
    }
   ],
   "source": [
    "print(product_to_id.items())"
   ]
  },
  {
   "cell_type": "markdown",
   "metadata": {},
   "source": [
    "## Up Next\n",
    "\n",
    "This notebook is just about data pre-processing and feature engineering.\n",
    "\n",
    "Due to the fact that this dataset is quite large, I have already tried at this stage to reduce the data subset by about 97% based on the narratives of the complaints. \n",
    "\n",
    "In the next few notebooks, I'll use this data to train and test a complete complaint classifier.\n",
    "\n",
    "For that I'll use the fourth notebook **04_data_training**."
   ]
  },
  {
   "cell_type": "markdown",
   "metadata": {},
   "source": [
    "------------------------------ END 03 Data Pre-Processing and Feature Engineering --------------------------------------"
   ]
  },
  {
   "cell_type": "code",
   "execution_count": null,
   "metadata": {},
   "outputs": [],
   "source": []
  }
 ],
 "metadata": {
  "kernelspec": {
   "display_name": "Python 3",
   "language": "python",
   "name": "python3"
  },
  "language_info": {
   "codemirror_mode": {
    "name": "ipython",
    "version": 3
   },
   "file_extension": ".py",
   "mimetype": "text/x-python",
   "name": "python",
   "nbconvert_exporter": "python",
   "pygments_lexer": "ipython3",
   "version": "3.7.4"
  }
 },
 "nbformat": 4,
 "nbformat_minor": 2
}
